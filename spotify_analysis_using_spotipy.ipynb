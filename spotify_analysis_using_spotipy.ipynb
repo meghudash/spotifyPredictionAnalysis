{
 "cells": [
  {
   "cell_type": "markdown",
   "id": "0cb5b96a",
   "metadata": {
    "id": "complicated-condition"
   },
   "source": [
    "# Getting Data from Spotify"
   ]
  },
  {
   "cell_type": "code",
   "execution_count": 2,
   "id": "documentary-familiar",
   "metadata": {
    "id": "documentary-familiar"
   },
   "outputs": [],
   "source": [
    "import spotipy\n",
    "import spotipy.util as util\n",
    "from spotipy.oauth2 import SpotifyClientCredentials\n",
    "import pandas as pd\n",
    "import time"
   ]
  },
  {
   "cell_type": "code",
   "execution_count": 3,
   "id": "filled-willow",
   "metadata": {
    "id": "filled-willow"
   },
   "outputs": [],
   "source": [
    "SPOTIPY_CLIENT_ID=#Your Client ID\n",
    "SPOTIPY_CLIENT_SECRET=#Secret key\n",
    "client_credentials_manager = SpotifyClientCredentials(client_id=#'Your Client ID', client_secret='Secret key')"
   ]
  },
  {
   "cell_type": "code",
   "execution_count": 4,
   "id": "3gHpHxfeoVyJ",
   "metadata": {
    "colab": {
     "base_uri": "https://localhost:8080/",
     "height": 467
    },
    "id": "3gHpHxfeoVyJ",
    "outputId": "db1bd842-3813-435c-fb20-f6144fb96530"
   },
   "outputs": [],
   "source": [
    "spotify = spotipy.Spotify(client_credentials_manager=SpotifyClientCredentials(client_id=SPOTIPY_CLIENT_ID, client_secret=SPOTIPY_CLIENT_SECRET))"
   ]
  },
  {
   "cell_type": "code",
   "execution_count": 12,
   "id": "usual-grenada",
   "metadata": {
    "id": "usual-grenada"
   },
   "outputs": [],
   "source": [
    "def show_tracks(tracks):\n",
    "    for i, item in enumerate(tracks['items']):\n",
    "        track = item['track']\n",
    "        print (\" %d %s %s\" % (i, track['artists'][0]['name'],track['name']))\n",
    "\n",
    "def get_track_features(track_id,sp):\n",
    "    if track_id is None:\n",
    "        return None\n",
    "    else:\n",
    "        features = sp.audio_features([track_id])\n",
    "    return features"
   ]
  },
  {
   "cell_type": "code",
   "execution_count": 13,
   "id": "recorded-glory",
   "metadata": {
    "id": "recorded-glory"
   },
   "outputs": [],
   "source": [
    "def get_features(tracks,sp):\n",
    "    tracks_with_features=[]\n",
    "\n",
    "    for track in tracks:\n",
    "        features = get_track_features(track['id'],sp)\n",
    "        print (track['name'])\n",
    "        if not features:\n",
    "            print(\"passing track %s\" % track['name'])\n",
    "            pass\n",
    "        else:\n",
    "            f = features[0]\n",
    "            tracks_with_features.append(dict(\n",
    "                                            name=track['name'],\n",
    "                                            artist=track['artist'],\n",
    "                                            id=track['id'],\n",
    "                                            danceability=f['danceability'],\n",
    "                                            energy=f['energy'],\n",
    "                                            liveness=f['liveness'],\n",
    "                                            valence=f['valence'],\n",
    "                                            speechiness=f['speechiness'],\n",
    "                                            loudness=f['loudness'],\n",
    "                                            ))\n",
    "\n",
    "        time.sleep(0.1)\n",
    "    return tracks_with_features"
   ]
  },
  {
   "cell_type": "code",
   "execution_count": 14,
   "id": "advisory-thomson",
   "metadata": {
    "id": "advisory-thomson"
   },
   "outputs": [],
   "source": [
    "def get_tracks_from_playlists(username, sp):\n",
    "    playlists = sp.user_playlists(username)\n",
    "    trackList = []\n",
    "    for playlist in playlists['items']:\n",
    "        if playlist['owner']['id'] == username:\n",
    "            print (playlist['name'],' no. of tracks: ',playlist['tracks']['total'])\n",
    "            results = sp.user_playlist(username, playlist['id'],fields=\"tracks,next\")\n",
    "            tracks = results['tracks']\n",
    "            for i, item in enumerate(tracks['items']):\n",
    "                track = item['track']\n",
    "                trackList.append(dict(name=track['name'], id=track['id'], artist=track['artists'][0]['name']))\n",
    "\n",
    "    return trackList"
   ]
  },
  {
   "cell_type": "code",
   "execution_count": 15,
   "id": "talented-iraqi",
   "metadata": {
    "colab": {
     "base_uri": "https://localhost:8080/"
    },
    "id": "talented-iraqi",
    "outputId": "05ee953e-034f-46fd-cb15-96aa2b1a7cd9"
   },
   "outputs": [
    {
     "name": "stdout",
     "output_type": "stream",
     "text": [
      "sad girl shit   no. of tracks:  23\n",
      "party  no. of tracks:  15\n",
      "2am bolly   no. of tracks:  25\n",
      "MD  no. of tracks:  39\n",
      "🍒🍒  no. of tracks:  69\n",
      "Hold On\n",
      "Happier\n",
      "Can I Be Him\n",
      "happier\n",
      "favorite crime\n",
      "Choke\n",
      "deja vu\n",
      "Till Forever Falls Apart\n",
      "CHICKEN TENDIES\n",
      "How to Save a Life\n",
      "Soul Mate\n",
      "Astronomy\n",
      "Can't Let You Go\n",
      "remember the mornings\n",
      "Please Notice\n",
      "Happiest Year\n",
      "Those Eyes\n",
      "Next to You\n",
      "With You\n",
      "i don't want to watch the world end with someone else\n",
      "Wait!\n",
      "Broken\n",
      "ilym (feat. ROSIE)\n",
      "Chalo Chalein\n",
      "Jeet\n",
      "Raabta (From \"Agent Vinod\")\n",
      "Ghungroo (From \"War\")\n",
      "The Breakup Song\n",
      "Chammak Challo\n",
      "Sooraj Dooba Hain\n",
      "Balam Pichkari\n",
      "Matargashti\n",
      "Suit Suit\n",
      "Bom Diggy\n",
      "Dilbar\n",
      "Mere Rashke Qamar\n",
      "High Rated Gabru\n",
      "The Wakhra Song\n",
      "Jag Soona Soona Lage\n",
      "Channa Mereya\n",
      "Samjhawan\n",
      "Tum Hi Ho (From \"Aashiqui 2\")\n",
      "Kabira\n",
      "Sajdaa\n",
      "Kun Faya Kun\n",
      "Bin Tere\n",
      "Dil Diyan Gallan\n",
      "Sunn Raha Hai\n",
      "Tere Sang Yaara\n",
      "Agar Tum Saath Ho (From \"Tamasha\")\n",
      "Baarish Lete Aana\n",
      "Tera Yaar Hoon Main (From \"Sonu Ke Titu Ki Sweety\")\n",
      "Kal Ho Naa Ho\n",
      "Ae Dil Hai Mushkil Title Track\n",
      "Jeena Jeena (From \"Badlapur\")\n",
      "Tum Se Hi\n",
      "Ikk Kudi - Reprised Version\n",
      "Nazm Nazm feat. Ayushmann Khurana\n",
      "Enna Sona\n",
      "Humsafar (From \"Badrinath Ki Dulhania\")\n",
      "Jeete Hain Chal\n",
      "Kabhi Alvida Naa Kehna\n",
      "Gerua\n",
      "Better\n",
      "Polaroid\n",
      "There You Are\n",
      "Lights Down Low\n",
      "Good Years\n",
      "Give Me Love\n",
      "Too Much To Ask\n",
      "I Won’t Give Up\n",
      "Scars To Your Beautiful\n",
      "All of Me\n",
      "Lost Boy\n",
      "Like I'm Gonna Lose You (feat. John Legend)\n",
      "Dancing On My Own\n",
      "Someone You Loved\n",
      "Without Me\n",
      "i'm so tired...\n",
      "Girls Like You (feat. Cardi B)\n",
      "Say You Won't Let Go\n",
      "Photograph\n",
      "This Town\n",
      "The Other\n",
      "The Story Never Ends\n",
      "Breathe\n",
      "Lost in Love (feat. Jake Miller)\n",
      "All Over Again\n",
      "Halfway There\n",
      "Count On You (feat. Jordin Sparks)\n",
      "It's Gotta Be You\n",
      "You Are The Reason\n",
      "Chasing Cars\n",
      "Jealous\n",
      "Wait (feat. A Boogie Wit da Hoodie)\n",
      "Over And Over Again\n",
      "Flicker\n",
      "Superhero\n",
      "Crowded Room (feat. 6LACK)\n",
      "First Man\n",
      "Falling\n",
      "If the World Was Ending - feat. Julia Michaels\n",
      "Red Room\n",
      "No More (feat. Travis Scott, Kodak Black & 21 Savage)\n",
      "a lot\n",
      "ball w/o you\n",
      "MIDDLE CHILD\n",
      "Close Friends (Lil Baby & Gunna)\n",
      "Icon\n",
      "All The Stars (with SZA)\n",
      "Pray For Me (with Kendrick Lamar)\n",
      "HUMBLE.\n",
      "MotorSport\n",
      "Narcos\n",
      "Same Bitches\n",
      "Power (feat. Nef The Pharaoh & P-Lo)\n",
      "The Plan\n",
      "Forbes\n",
      "Wow.\n",
      "Lucid Dreams\n",
      "All Girls Are The Same\n",
      "Bounce Back\n",
      "Moves\n",
      "Walk It Talk It\n",
      "Congratulations\n",
      "Dreamcatcher (feat. Swae Lee & Travis Scott)\n",
      "Sold Out Dates (feat. Lil Baby)\n",
      "MIA\n",
      "Nice For What\n",
      "Um Yea\n",
      "Clout (feat. Cardi B)\n",
      "Underdog (Lil Baby & Gunna)\n",
      "Eyes Closed\n",
      "YOSEMITE\n",
      "Never Recover (Lil Baby & Gunna, Drake)\n",
      "Yes Indeed\n",
      "Held Me Down\n",
      "Stir Fry\n",
      "FEFE\n",
      "Thotiana (feat. Cardi B, YG) [Remix]\n",
      "Plain Jane\n",
      "DNA.\n",
      "Candy Paint\n",
      "Leave Me Alone\n",
      "Murder on My Mind\n",
      "Drip Too Hard (Lil Baby & Gunna)\n",
      "Wanted You (feat. Lil Uzi Vert)\n",
      "Legacy (feat. Travis Scott & 21 Savage)\n",
      "Splashin\n",
      "Pure Cocaine\n",
      "Hard Work Pays Off\n",
      "Mo Bamba\n",
      "Suge\n",
      "Pure Water (with Migos)\n",
      "Noticed\n",
      "Ric Flair Drip (& Metro Boomin)\n",
      "Pray For Me\n",
      "Off White VLONE (Lil Baby & Gunna feat. Lil Durk & NAV)\n",
      "Myself\n",
      "Space Cadet (feat. Gunna)\n",
      "Celebrate (feat. Travis Scott & Post Malone)\n",
      "Goin Baby\n",
      "Quarter Milli (feat. Gucci Mane)\n",
      "Carpet Burn\n",
      "GHOST\n",
      "No Question (feat Future)\n",
      "Champion (feat. Travis Scott)\n",
      "FLIP THE SWITCH (feat. Drake)\n",
      "Antidote\n",
      "On The Road (feat. Meek Mill & Lil Baby)\n",
      "No Stylist (feat. Drake)\n"
     ]
    }
   ],
   "source": [
    "sp = spotipy.Spotify(client_credentials_manager=SpotifyClientCredentials(client_id=SPOTIPY_CLIENT_ID, client_secret=SPOTIPY_CLIENT_SECRET))\n",
    "tracks = get_tracks_from_playlists(UserURI, sp)\n",
    "tracks_with_features = get_features(tracks,sp)\n",
    "df = pd.DataFrame(tracks_with_features)"
   ]
  },
  {
   "cell_type": "markdown",
   "id": "d3292881",
   "metadata": {},
   "source": [
    "# EDA"
   ]
  },
  {
   "cell_type": "code",
   "execution_count": 3,
   "id": "-P8iYg7AdRmn",
   "metadata": {
    "colab": {
     "base_uri": "https://localhost:8080/",
     "height": 485
    },
    "id": "-P8iYg7AdRmn",
    "outputId": "55d45083-ba1c-4285-9693-7a8bab18ec31"
   },
   "outputs": [],
   "source": [
    "df=pd.read_csv('mySongsDataset.csv')"
   ]
  },
  {
   "cell_type": "code",
   "execution_count": 4,
   "id": "alike-antibody",
   "metadata": {
    "colab": {
     "base_uri": "https://localhost:8080/",
     "height": 206
    },
    "id": "alike-antibody",
    "outputId": "c656006c-8158-4278-e657-7eec673de244"
   },
   "outputs": [
    {
     "data": {
      "text/html": [
       "<div>\n",
       "<style scoped>\n",
       "    .dataframe tbody tr th:only-of-type {\n",
       "        vertical-align: middle;\n",
       "    }\n",
       "\n",
       "    .dataframe tbody tr th {\n",
       "        vertical-align: top;\n",
       "    }\n",
       "\n",
       "    .dataframe thead th {\n",
       "        text-align: right;\n",
       "    }\n",
       "</style>\n",
       "<table border=\"1\" class=\"dataframe\">\n",
       "  <thead>\n",
       "    <tr style=\"text-align: right;\">\n",
       "      <th></th>\n",
       "      <th>name</th>\n",
       "      <th>artist</th>\n",
       "      <th>id</th>\n",
       "      <th>danceability</th>\n",
       "      <th>energy</th>\n",
       "      <th>liveness</th>\n",
       "      <th>valence</th>\n",
       "      <th>speechiness</th>\n",
       "      <th>loudness</th>\n",
       "    </tr>\n",
       "  </thead>\n",
       "  <tbody>\n",
       "    <tr>\n",
       "      <th>0</th>\n",
       "      <td>Hold On</td>\n",
       "      <td>Chord Overstreet</td>\n",
       "      <td>5vjLSffimiIP26QG5WcN2K</td>\n",
       "      <td>0.618</td>\n",
       "      <td>0.443</td>\n",
       "      <td>0.0829</td>\n",
       "      <td>0.167</td>\n",
       "      <td>0.0526</td>\n",
       "      <td>-9.681</td>\n",
       "    </tr>\n",
       "    <tr>\n",
       "      <th>1</th>\n",
       "      <td>Happier</td>\n",
       "      <td>Ed Sheeran</td>\n",
       "      <td>2RttW7RAu5nOAfq6YFvApB</td>\n",
       "      <td>0.522</td>\n",
       "      <td>0.385</td>\n",
       "      <td>0.1350</td>\n",
       "      <td>0.236</td>\n",
       "      <td>0.0288</td>\n",
       "      <td>-7.355</td>\n",
       "    </tr>\n",
       "    <tr>\n",
       "      <th>2</th>\n",
       "      <td>Can I Be Him</td>\n",
       "      <td>James Arthur</td>\n",
       "      <td>0VhgEqMTNZwYL1ARDLLNCX</td>\n",
       "      <td>0.696</td>\n",
       "      <td>0.543</td>\n",
       "      <td>0.0939</td>\n",
       "      <td>0.479</td>\n",
       "      <td>0.0489</td>\n",
       "      <td>-6.164</td>\n",
       "    </tr>\n",
       "    <tr>\n",
       "      <th>3</th>\n",
       "      <td>happier</td>\n",
       "      <td>Olivia Rodrigo</td>\n",
       "      <td>2tGvwE8GcFKwNdAXMnlbfl</td>\n",
       "      <td>0.395</td>\n",
       "      <td>0.443</td>\n",
       "      <td>0.0839</td>\n",
       "      <td>0.338</td>\n",
       "      <td>0.1330</td>\n",
       "      <td>-9.720</td>\n",
       "    </tr>\n",
       "    <tr>\n",
       "      <th>4</th>\n",
       "      <td>favorite crime</td>\n",
       "      <td>Olivia Rodrigo</td>\n",
       "      <td>5JCoSi02qi3jJeHdZXMmR8</td>\n",
       "      <td>0.369</td>\n",
       "      <td>0.272</td>\n",
       "      <td>0.1470</td>\n",
       "      <td>0.218</td>\n",
       "      <td>0.0364</td>\n",
       "      <td>-10.497</td>\n",
       "    </tr>\n",
       "  </tbody>\n",
       "</table>\n",
       "</div>"
      ],
      "text/plain": [
       "             name            artist                      id  danceability  \\\n",
       "0         Hold On  Chord Overstreet  5vjLSffimiIP26QG5WcN2K         0.618   \n",
       "1         Happier        Ed Sheeran  2RttW7RAu5nOAfq6YFvApB         0.522   \n",
       "2    Can I Be Him      James Arthur  0VhgEqMTNZwYL1ARDLLNCX         0.696   \n",
       "3         happier    Olivia Rodrigo  2tGvwE8GcFKwNdAXMnlbfl         0.395   \n",
       "4  favorite crime    Olivia Rodrigo  5JCoSi02qi3jJeHdZXMmR8         0.369   \n",
       "\n",
       "   energy  liveness  valence  speechiness  loudness  \n",
       "0   0.443    0.0829    0.167       0.0526    -9.681  \n",
       "1   0.385    0.1350    0.236       0.0288    -7.355  \n",
       "2   0.543    0.0939    0.479       0.0489    -6.164  \n",
       "3   0.443    0.0839    0.338       0.1330    -9.720  \n",
       "4   0.272    0.1470    0.218       0.0364   -10.497  "
      ]
     },
     "execution_count": 4,
     "metadata": {},
     "output_type": "execute_result"
    }
   ],
   "source": [
    "df.head()"
   ]
  },
  {
   "cell_type": "code",
   "execution_count": 10,
   "id": "ShOfcjJTrdEv",
   "metadata": {
    "colab": {
     "base_uri": "https://localhost:8080/",
     "height": 300
    },
    "id": "ShOfcjJTrdEv",
    "outputId": "c353e064-6761-4824-8759-406194cd9ffb"
   },
   "outputs": [
    {
     "data": {
      "text/html": [
       "<div>\n",
       "<style scoped>\n",
       "    .dataframe tbody tr th:only-of-type {\n",
       "        vertical-align: middle;\n",
       "    }\n",
       "\n",
       "    .dataframe tbody tr th {\n",
       "        vertical-align: top;\n",
       "    }\n",
       "\n",
       "    .dataframe thead th {\n",
       "        text-align: right;\n",
       "    }\n",
       "</style>\n",
       "<table border=\"1\" class=\"dataframe\">\n",
       "  <thead>\n",
       "    <tr style=\"text-align: right;\">\n",
       "      <th></th>\n",
       "      <th>danceability</th>\n",
       "      <th>energy</th>\n",
       "      <th>liveness</th>\n",
       "      <th>valence</th>\n",
       "      <th>speechiness</th>\n",
       "      <th>loudness</th>\n",
       "    </tr>\n",
       "  </thead>\n",
       "  <tbody>\n",
       "    <tr>\n",
       "      <th>count</th>\n",
       "      <td>171.000000</td>\n",
       "      <td>171.000000</td>\n",
       "      <td>171.000000</td>\n",
       "      <td>171.000000</td>\n",
       "      <td>171.000000</td>\n",
       "      <td>171.000000</td>\n",
       "    </tr>\n",
       "    <tr>\n",
       "      <th>mean</th>\n",
       "      <td>0.657526</td>\n",
       "      <td>0.560067</td>\n",
       "      <td>0.154175</td>\n",
       "      <td>0.401084</td>\n",
       "      <td>0.114775</td>\n",
       "      <td>-7.053222</td>\n",
       "    </tr>\n",
       "    <tr>\n",
       "      <th>std</th>\n",
       "      <td>0.166263</td>\n",
       "      <td>0.183719</td>\n",
       "      <td>0.098992</td>\n",
       "      <td>0.200386</td>\n",
       "      <td>0.114580</td>\n",
       "      <td>2.133737</td>\n",
       "    </tr>\n",
       "    <tr>\n",
       "      <th>min</th>\n",
       "      <td>0.261000</td>\n",
       "      <td>0.056500</td>\n",
       "      <td>0.062500</td>\n",
       "      <td>0.059200</td>\n",
       "      <td>0.024800</td>\n",
       "      <td>-15.099000</td>\n",
       "    </tr>\n",
       "    <tr>\n",
       "      <th>25%</th>\n",
       "      <td>0.546500</td>\n",
       "      <td>0.434000</td>\n",
       "      <td>0.100500</td>\n",
       "      <td>0.236500</td>\n",
       "      <td>0.035700</td>\n",
       "      <td>-8.405000</td>\n",
       "    </tr>\n",
       "    <tr>\n",
       "      <th>50%</th>\n",
       "      <td>0.667000</td>\n",
       "      <td>0.553000</td>\n",
       "      <td>0.116000</td>\n",
       "      <td>0.384000</td>\n",
       "      <td>0.060700</td>\n",
       "      <td>-6.940000</td>\n",
       "    </tr>\n",
       "    <tr>\n",
       "      <th>75%</th>\n",
       "      <td>0.786500</td>\n",
       "      <td>0.694500</td>\n",
       "      <td>0.160000</td>\n",
       "      <td>0.522500</td>\n",
       "      <td>0.164000</td>\n",
       "      <td>-5.506500</td>\n",
       "    </tr>\n",
       "    <tr>\n",
       "      <th>max</th>\n",
       "      <td>0.964000</td>\n",
       "      <td>0.944000</td>\n",
       "      <td>0.658000</td>\n",
       "      <td>0.957000</td>\n",
       "      <td>0.564000</td>\n",
       "      <td>-2.661000</td>\n",
       "    </tr>\n",
       "  </tbody>\n",
       "</table>\n",
       "</div>"
      ],
      "text/plain": [
       "       danceability      energy    liveness     valence  speechiness  \\\n",
       "count    171.000000  171.000000  171.000000  171.000000   171.000000   \n",
       "mean       0.657526    0.560067    0.154175    0.401084     0.114775   \n",
       "std        0.166263    0.183719    0.098992    0.200386     0.114580   \n",
       "min        0.261000    0.056500    0.062500    0.059200     0.024800   \n",
       "25%        0.546500    0.434000    0.100500    0.236500     0.035700   \n",
       "50%        0.667000    0.553000    0.116000    0.384000     0.060700   \n",
       "75%        0.786500    0.694500    0.160000    0.522500     0.164000   \n",
       "max        0.964000    0.944000    0.658000    0.957000     0.564000   \n",
       "\n",
       "         loudness  \n",
       "count  171.000000  \n",
       "mean    -7.053222  \n",
       "std      2.133737  \n",
       "min    -15.099000  \n",
       "25%     -8.405000  \n",
       "50%     -6.940000  \n",
       "75%     -5.506500  \n",
       "max     -2.661000  "
      ]
     },
     "execution_count": 10,
     "metadata": {},
     "output_type": "execute_result"
    }
   ],
   "source": [
    "df.describe()"
   ]
  },
  {
   "cell_type": "code",
   "execution_count": 11,
   "id": "-JlGzKyxo_iS",
   "metadata": {
    "colab": {
     "base_uri": "https://localhost:8080/"
    },
    "id": "-JlGzKyxo_iS",
    "outputId": "260c5614-e60b-4960-85e9-7e84edc00eda"
   },
   "outputs": [
    {
     "name": "stdout",
     "output_type": "stream",
     "text": [
      "<class 'pandas.core.frame.DataFrame'>\n",
      "RangeIndex: 171 entries, 0 to 170\n",
      "Data columns (total 9 columns):\n",
      " #   Column        Non-Null Count  Dtype  \n",
      "---  ------        --------------  -----  \n",
      " 0   name          171 non-null    object \n",
      " 1   artist        171 non-null    object \n",
      " 2   id            171 non-null    object \n",
      " 3   danceability  171 non-null    float64\n",
      " 4   energy        171 non-null    float64\n",
      " 5   liveness      171 non-null    float64\n",
      " 6   valence       171 non-null    float64\n",
      " 7   speechiness   171 non-null    float64\n",
      " 8   loudness      171 non-null    float64\n",
      "dtypes: float64(6), object(3)\n",
      "memory usage: 12.1+ KB\n"
     ]
    }
   ],
   "source": [
    "df.info()"
   ]
  },
  {
   "cell_type": "code",
   "execution_count": 39,
   "id": "iJ_xhtZ3ymCs",
   "metadata": {
    "id": "iJ_xhtZ3ymCs"
   },
   "outputs": [],
   "source": [
    "import matplotlib\n",
    "import matplotlib.pyplot as plt\n",
    "import seaborn as sns\n",
    "import math\n",
    "import numpy as np"
   ]
  },
  {
   "cell_type": "code",
   "execution_count": 6,
   "id": "n9_NJV37ypd9",
   "metadata": {
    "id": "n9_NJV37ypd9"
   },
   "outputs": [],
   "source": [
    "from sklearn import preprocessing\n",
    "loudness = df[['loudness']].values\n",
    "min_max_scaler = preprocessing.MinMaxScaler()\n",
    "loudness_scaled = min_max_scaler.fit_transform(loudness)\n",
    "df[['loudness']]=loudness_scaled"
   ]
  },
  {
   "cell_type": "code",
   "execution_count": 7,
   "id": "nv_eiAIF6fLG",
   "metadata": {
    "id": "nv_eiAIF6fLG"
   },
   "outputs": [],
   "source": [
    "features=df[['danceability','energy','liveness','valence','speechiness','loudness']]"
   ]
  },
  {
   "cell_type": "code",
   "execution_count": 10,
   "id": "78bc2646",
   "metadata": {},
   "outputs": [
    {
     "data": {
      "text/plain": [
       "[0.6575263157894733,\n",
       " 0.5600672514619884,\n",
       " 0.15417485380116958,\n",
       " 0.40108421052631593,\n",
       " 0.11477485380116957,\n",
       " 0.6468707008986799]"
      ]
     },
     "execution_count": 10,
     "metadata": {},
     "output_type": "execute_result"
    }
   ],
   "source": [
    "list(features.mean())"
   ]
  },
  {
   "cell_type": "code",
   "execution_count": 21,
   "id": "1c044d50",
   "metadata": {},
   "outputs": [
    {
     "data": {
      "image/png": "[encoded data removed]",
      "text/plain": [
       "<Figure size 864x576 with 1 Axes>"
      ]
     },
     "metadata": {
      "needs_background": "light"
     },
     "output_type": "display_data"
    }
   ],
   "source": [
    "fig=plt.figure(figsize=(12,8))\n",
    "\n",
    "# convert column names into a list\n",
    "categories=list(features.columns)\n",
    "# number of categories\n",
    "N=len(categories)\n",
    "\n",
    "# create a list with the average of all features\n",
    "value=list(features.mean())\n",
    "\n",
    "# repeat first value to close the circle\n",
    "# the plot is a circle, so we need to \"complete the loop\"\n",
    "# and append the start value to the end.\n",
    "value+=value[:1]\n",
    "# calculate angle for each category\n",
    "angles=[n/float(N)*2*(math.pi) for n in range(N)]\n",
    "angles+=angles[:1]\n",
    "\n",
    "# plot\n",
    "plt.polar(angles, value)\n",
    "plt.fill(angles,value,alpha=0.3)\n",
    "\n",
    "# plt.title('Discovery Weekly Songs Audio Features', size=35)\n",
    "\n",
    "plt.xticks(angles[:-1],categories, size=15)\n",
    "plt.yticks(color='blue',size=15)\n",
    "plt.show()"
   ]
  },
  {
   "cell_type": "code",
   "execution_count": 11,
   "id": "JLIRTxzE6il_",
   "metadata": {
    "id": "JLIRTxzE6il_"
   },
   "outputs": [],
   "source": [
    "from sklearn.cluster import KMeans\n",
    "kmeans = KMeans(n_clusters=4)\n",
    "kmeans.fit(features)\n",
    "kmeans_YPred = kmeans.predict(features)"
   ]
  },
  {
   "cell_type": "code",
   "execution_count": 12,
   "id": "i_B2fxJy_uyJ",
   "metadata": {
    "id": "i_B2fxJy_uyJ"
   },
   "outputs": [],
   "source": [
    "# PCA to reduce our data to 2 dimensions for visualisation\n",
    "from sklearn.decomposition import PCA\n",
    "pca = PCA(n_components=2)\n",
    "principal_components = pca.fit_transform(features)"
   ]
  },
  {
   "cell_type": "code",
   "execution_count": 13,
   "id": "fRYfXSACCG2N",
   "metadata": {
    "colab": {
     "base_uri": "https://localhost:8080/",
     "height": 383
    },
    "id": "fRYfXSACCG2N",
    "outputId": "1bbfb484-6f79-4e88-a17f-a2efd292d7ed"
   },
   "outputs": [
    {
     "data": {
      "image/png": "[encoded data removed]",
      "text/plain": [
       "<Figure size 402.375x360 with 1 Axes>"
      ]
     },
     "metadata": {
      "needs_background": "light"
     },
     "output_type": "display_data"
    }
   ],
   "source": [
    "pc = pd.DataFrame(principal_components)\n",
    "pc['label'] = kmeans_YPred\n",
    "pc.columns = ['x', 'y','label']\n",
    "\n",
    "#plot data with seaborn\n",
    "cluster = sns.lmplot(data=pc, x='x', y='y', hue='label', \n",
    "                   fit_reg=False, legend=True, legend_out=True)"
   ]
  },
  {
   "cell_type": "code",
   "execution_count": 14,
   "id": "AwLgANeYClk5",
   "metadata": {
    "colab": {
     "base_uri": "https://localhost:8080/"
    },
    "id": "AwLgANeYClk5",
    "outputId": "ac81e058-5a23-47c1-c402-a8182e851155"
   },
   "outputs": [
    {
     "name": "stdout",
     "output_type": "stream",
     "text": [
      "      danceability    energy  liveness   valence  speechiness  loudness\n",
      "PC-1      0.263605  0.603086  0.088767  0.561944     0.117326  0.478929\n",
      "PC-2      0.805708 -0.241375 -0.029572  0.064137     0.433628 -0.315518\n"
     ]
    }
   ],
   "source": [
    "print (pd.DataFrame(pca.components_,columns=features.columns,index = ['PC-1','PC-2']))"
   ]
  },
  {
   "cell_type": "code",
   "execution_count": 15,
   "id": "sblJlumJZ_av",
   "metadata": {
    "colab": {
     "base_uri": "https://localhost:8080/"
    },
    "id": "sblJlumJZ_av",
    "outputId": "f9ced63f-5f8a-40b1-be74-33c034d28827"
   },
   "outputs": [
    {
     "data": {
      "text/plain": [
       "2    47\n",
       "0    43\n",
       "1    43\n",
       "3    38\n",
       "Name: label, dtype: int64"
      ]
     },
     "execution_count": 15,
     "metadata": {},
     "output_type": "execute_result"
    }
   ],
   "source": [
    "df['label'] =kmeans_YPred\n",
    "# shuffle dataset\n",
    "df = df.sample(frac=1)\n",
    "df['label'].value_counts()"
   ]
  },
  {
   "cell_type": "code",
   "execution_count": 18,
   "id": "wwszRADvdK5A",
   "metadata": {
    "colab": {
     "base_uri": "https://localhost:8080/",
     "height": 258
    },
    "id": "wwszRADvdK5A",
    "outputId": "da8fcd2f-5728-42d4-a1eb-27c2f2296e7d"
   },
   "outputs": [
    {
     "data": {
      "text/html": [
       "<div>\n",
       "<style scoped>\n",
       "    .dataframe tbody tr th:only-of-type {\n",
       "        vertical-align: middle;\n",
       "    }\n",
       "\n",
       "    .dataframe tbody tr th {\n",
       "        vertical-align: top;\n",
       "    }\n",
       "\n",
       "    .dataframe thead th {\n",
       "        text-align: right;\n",
       "    }\n",
       "</style>\n",
       "<table border=\"1\" class=\"dataframe\">\n",
       "  <thead>\n",
       "    <tr style=\"text-align: right;\">\n",
       "      <th></th>\n",
       "      <th>name</th>\n",
       "      <th>artist</th>\n",
       "      <th>id</th>\n",
       "      <th>danceability</th>\n",
       "      <th>energy</th>\n",
       "      <th>liveness</th>\n",
       "      <th>valence</th>\n",
       "      <th>speechiness</th>\n",
       "      <th>loudness</th>\n",
       "      <th>label</th>\n",
       "    </tr>\n",
       "  </thead>\n",
       "  <tbody>\n",
       "    <tr>\n",
       "      <th>111</th>\n",
       "      <td>HUMBLE.</td>\n",
       "      <td>Kendrick Lamar</td>\n",
       "      <td>0gvQoTWRxsW5Rd7KgPp0u3</td>\n",
       "      <td>0.908</td>\n",
       "      <td>0.621</td>\n",
       "      <td>0.0958</td>\n",
       "      <td>0.4210</td>\n",
       "      <td>0.1020</td>\n",
       "      <td>0.680254</td>\n",
       "      <td>0</td>\n",
       "    </tr>\n",
       "    <tr>\n",
       "      <th>159</th>\n",
       "      <td>Space Cadet (feat. Gunna)</td>\n",
       "      <td>Metro Boomin</td>\n",
       "      <td>1fewSx2d5KIZ04wsooEBOz</td>\n",
       "      <td>0.901</td>\n",
       "      <td>0.464</td>\n",
       "      <td>0.2380</td>\n",
       "      <td>0.6380</td>\n",
       "      <td>0.0645</td>\n",
       "      <td>0.426918</td>\n",
       "      <td>0</td>\n",
       "    </tr>\n",
       "    <tr>\n",
       "      <th>77</th>\n",
       "      <td>Without Me</td>\n",
       "      <td>Halsey</td>\n",
       "      <td>5p7ujcrUXASCNwRaWNHR1C</td>\n",
       "      <td>0.752</td>\n",
       "      <td>0.488</td>\n",
       "      <td>0.0936</td>\n",
       "      <td>0.5330</td>\n",
       "      <td>0.0705</td>\n",
       "      <td>0.647130</td>\n",
       "      <td>0</td>\n",
       "    </tr>\n",
       "    <tr>\n",
       "      <th>132</th>\n",
       "      <td>Eyes Closed</td>\n",
       "      <td>G-Eazy</td>\n",
       "      <td>0rZ3xYyjHM9B1IBD9ixZ08</td>\n",
       "      <td>0.715</td>\n",
       "      <td>0.763</td>\n",
       "      <td>0.1030</td>\n",
       "      <td>0.3950</td>\n",
       "      <td>0.2400</td>\n",
       "      <td>0.705097</td>\n",
       "      <td>0</td>\n",
       "    </tr>\n",
       "    <tr>\n",
       "      <th>120</th>\n",
       "      <td>All Girls Are The Same</td>\n",
       "      <td>Juice WRLD</td>\n",
       "      <td>4VXIryQMWpIdGgYR4TrjT1</td>\n",
       "      <td>0.671</td>\n",
       "      <td>0.529</td>\n",
       "      <td>0.0856</td>\n",
       "      <td>0.2030</td>\n",
       "      <td>0.3070</td>\n",
       "      <td>0.632980</td>\n",
       "      <td>0</td>\n",
       "    </tr>\n",
       "    <tr>\n",
       "      <th>116</th>\n",
       "      <td>The Plan</td>\n",
       "      <td>G-Eazy</td>\n",
       "      <td>3hmrgEKcLEQi0rlk3mJfZ7</td>\n",
       "      <td>0.801</td>\n",
       "      <td>0.604</td>\n",
       "      <td>0.1590</td>\n",
       "      <td>0.3590</td>\n",
       "      <td>0.4230</td>\n",
       "      <td>0.584580</td>\n",
       "      <td>0</td>\n",
       "    </tr>\n",
       "    <tr>\n",
       "      <th>115</th>\n",
       "      <td>Power (feat. Nef The Pharaoh &amp; P-Lo)</td>\n",
       "      <td>G-Eazy</td>\n",
       "      <td>7BHEi0cFs6TVNFDvbBrAjz</td>\n",
       "      <td>0.839</td>\n",
       "      <td>0.743</td>\n",
       "      <td>0.1320</td>\n",
       "      <td>0.2610</td>\n",
       "      <td>0.2280</td>\n",
       "      <td>0.623734</td>\n",
       "      <td>0</td>\n",
       "    </tr>\n",
       "    <tr>\n",
       "      <th>158</th>\n",
       "      <td>Myself</td>\n",
       "      <td>NAV</td>\n",
       "      <td>05nbZ1xxVNwUTcGwLbp7CN</td>\n",
       "      <td>0.749</td>\n",
       "      <td>0.398</td>\n",
       "      <td>0.1150</td>\n",
       "      <td>0.0859</td>\n",
       "      <td>0.1710</td>\n",
       "      <td>0.615774</td>\n",
       "      <td>0</td>\n",
       "    </tr>\n",
       "    <tr>\n",
       "      <th>133</th>\n",
       "      <td>YOSEMITE</td>\n",
       "      <td>Travis Scott</td>\n",
       "      <td>7lAK3oHbfEnvUQWosrMMpR</td>\n",
       "      <td>0.785</td>\n",
       "      <td>0.554</td>\n",
       "      <td>0.1160</td>\n",
       "      <td>0.1440</td>\n",
       "      <td>0.0409</td>\n",
       "      <td>0.685641</td>\n",
       "      <td>0</td>\n",
       "    </tr>\n",
       "    <tr>\n",
       "      <th>165</th>\n",
       "      <td>No Question (feat Future)</td>\n",
       "      <td>Rich The Kid</td>\n",
       "      <td>26oZOwsCywHXPRvLVORbgw</td>\n",
       "      <td>0.885</td>\n",
       "      <td>0.559</td>\n",
       "      <td>0.0973</td>\n",
       "      <td>0.5650</td>\n",
       "      <td>0.3220</td>\n",
       "      <td>0.644316</td>\n",
       "      <td>0</td>\n",
       "    </tr>\n",
       "    <tr>\n",
       "      <th>113</th>\n",
       "      <td>Narcos</td>\n",
       "      <td>Migos</td>\n",
       "      <td>0wbnC9AUenxp613TYaJsGK</td>\n",
       "      <td>0.936</td>\n",
       "      <td>0.585</td>\n",
       "      <td>0.1320</td>\n",
       "      <td>0.2420</td>\n",
       "      <td>0.1250</td>\n",
       "      <td>0.658064</td>\n",
       "      <td>0</td>\n",
       "    </tr>\n",
       "    <tr>\n",
       "      <th>105</th>\n",
       "      <td>ball w/o you</td>\n",
       "      <td>21 Savage</td>\n",
       "      <td>4UW4GsTVETXP2mzXfMT2iC</td>\n",
       "      <td>0.892</td>\n",
       "      <td>0.633</td>\n",
       "      <td>0.1390</td>\n",
       "      <td>0.4590</td>\n",
       "      <td>0.0902</td>\n",
       "      <td>0.613282</td>\n",
       "      <td>0</td>\n",
       "    </tr>\n",
       "    <tr>\n",
       "      <th>126</th>\n",
       "      <td>Sold Out Dates (feat. Lil Baby)</td>\n",
       "      <td>Gunna</td>\n",
       "      <td>72LlwJM24dWKpFLVB3PWWQ</td>\n",
       "      <td>0.824</td>\n",
       "      <td>0.554</td>\n",
       "      <td>0.1240</td>\n",
       "      <td>0.3160</td>\n",
       "      <td>0.1150</td>\n",
       "      <td>0.641663</td>\n",
       "      <td>0</td>\n",
       "    </tr>\n",
       "    <tr>\n",
       "      <th>164</th>\n",
       "      <td>GHOST</td>\n",
       "      <td>Jaden</td>\n",
       "      <td>0aWMostcnfyjuCEcO7sTz5</td>\n",
       "      <td>0.782</td>\n",
       "      <td>0.531</td>\n",
       "      <td>0.2380</td>\n",
       "      <td>0.2470</td>\n",
       "      <td>0.1680</td>\n",
       "      <td>0.680415</td>\n",
       "      <td>0</td>\n",
       "    </tr>\n",
       "    <tr>\n",
       "      <th>154</th>\n",
       "      <td>Noticed</td>\n",
       "      <td>Lil Mosey</td>\n",
       "      <td>6JQvHMSaR8flFsN53ypOfP</td>\n",
       "      <td>0.699</td>\n",
       "      <td>0.558</td>\n",
       "      <td>0.1160</td>\n",
       "      <td>0.4930</td>\n",
       "      <td>0.0603</td>\n",
       "      <td>0.601142</td>\n",
       "      <td>0</td>\n",
       "    </tr>\n",
       "    <tr>\n",
       "      <th>79</th>\n",
       "      <td>Girls Like You (feat. Cardi B)</td>\n",
       "      <td>Maroon 5</td>\n",
       "      <td>7fa9MBXhVfQ8P8Df9OEbD8</td>\n",
       "      <td>0.851</td>\n",
       "      <td>0.541</td>\n",
       "      <td>0.1300</td>\n",
       "      <td>0.4480</td>\n",
       "      <td>0.0505</td>\n",
       "      <td>0.665219</td>\n",
       "      <td>0</td>\n",
       "    </tr>\n",
       "    <tr>\n",
       "      <th>103</th>\n",
       "      <td>No More (feat. Travis Scott, Kodak Black &amp; 21 ...</td>\n",
       "      <td>Metro Boomin</td>\n",
       "      <td>42k9e2hgl98IdgkXLg4pxs</td>\n",
       "      <td>0.636</td>\n",
       "      <td>0.501</td>\n",
       "      <td>0.3390</td>\n",
       "      <td>0.1960</td>\n",
       "      <td>0.3290</td>\n",
       "      <td>0.630246</td>\n",
       "      <td>0</td>\n",
       "    </tr>\n",
       "    <tr>\n",
       "      <th>127</th>\n",
       "      <td>MIA</td>\n",
       "      <td>Bad Bunny</td>\n",
       "      <td>3gE4eQH3K83Sght0ZLvuBK</td>\n",
       "      <td>0.816</td>\n",
       "      <td>0.538</td>\n",
       "      <td>0.0990</td>\n",
       "      <td>0.1560</td>\n",
       "      <td>0.0617</td>\n",
       "      <td>0.703087</td>\n",
       "      <td>0</td>\n",
       "    </tr>\n",
       "    <tr>\n",
       "      <th>130</th>\n",
       "      <td>Clout (feat. Cardi B)</td>\n",
       "      <td>Offset</td>\n",
       "      <td>59ywHNwwchG4nZJMLyxSzd</td>\n",
       "      <td>0.919</td>\n",
       "      <td>0.622</td>\n",
       "      <td>0.1220</td>\n",
       "      <td>0.4240</td>\n",
       "      <td>0.0997</td>\n",
       "      <td>0.620277</td>\n",
       "      <td>0</td>\n",
       "    </tr>\n",
       "    <tr>\n",
       "      <th>122</th>\n",
       "      <td>Moves</td>\n",
       "      <td>Big Sean</td>\n",
       "      <td>0Fv5N0cHBsl4bzCbollCAS</td>\n",
       "      <td>0.812</td>\n",
       "      <td>0.522</td>\n",
       "      <td>0.1540</td>\n",
       "      <td>0.3800</td>\n",
       "      <td>0.2570</td>\n",
       "      <td>0.788873</td>\n",
       "      <td>0</td>\n",
       "    </tr>\n",
       "  </tbody>\n",
       "</table>\n",
       "</div>"
      ],
      "text/plain": [
       "                                                  name          artist  \\\n",
       "111                                            HUMBLE.  Kendrick Lamar   \n",
       "159                          Space Cadet (feat. Gunna)    Metro Boomin   \n",
       "77                                          Without Me          Halsey   \n",
       "132                                        Eyes Closed          G-Eazy   \n",
       "120                             All Girls Are The Same      Juice WRLD   \n",
       "116                                           The Plan          G-Eazy   \n",
       "115               Power (feat. Nef The Pharaoh & P-Lo)          G-Eazy   \n",
       "158                                             Myself             NAV   \n",
       "133                                           YOSEMITE    Travis Scott   \n",
       "165                          No Question (feat Future)    Rich The Kid   \n",
       "113                                             Narcos           Migos   \n",
       "105                                       ball w/o you       21 Savage   \n",
       "126                    Sold Out Dates (feat. Lil Baby)           Gunna   \n",
       "164                                              GHOST           Jaden   \n",
       "154                                            Noticed       Lil Mosey   \n",
       "79                      Girls Like You (feat. Cardi B)        Maroon 5   \n",
       "103  No More (feat. Travis Scott, Kodak Black & 21 ...    Metro Boomin   \n",
       "127                                                MIA       Bad Bunny   \n",
       "130                              Clout (feat. Cardi B)          Offset   \n",
       "122                                              Moves        Big Sean   \n",
       "\n",
       "                         id  danceability  energy  liveness  valence  \\\n",
       "111  0gvQoTWRxsW5Rd7KgPp0u3         0.908   0.621    0.0958   0.4210   \n",
       "159  1fewSx2d5KIZ04wsooEBOz         0.901   0.464    0.2380   0.6380   \n",
       "77   5p7ujcrUXASCNwRaWNHR1C         0.752   0.488    0.0936   0.5330   \n",
       "132  0rZ3xYyjHM9B1IBD9ixZ08         0.715   0.763    0.1030   0.3950   \n",
       "120  4VXIryQMWpIdGgYR4TrjT1         0.671   0.529    0.0856   0.2030   \n",
       "116  3hmrgEKcLEQi0rlk3mJfZ7         0.801   0.604    0.1590   0.3590   \n",
       "115  7BHEi0cFs6TVNFDvbBrAjz         0.839   0.743    0.1320   0.2610   \n",
       "158  05nbZ1xxVNwUTcGwLbp7CN         0.749   0.398    0.1150   0.0859   \n",
       "133  7lAK3oHbfEnvUQWosrMMpR         0.785   0.554    0.1160   0.1440   \n",
       "165  26oZOwsCywHXPRvLVORbgw         0.885   0.559    0.0973   0.5650   \n",
       "113  0wbnC9AUenxp613TYaJsGK         0.936   0.585    0.1320   0.2420   \n",
       "105  4UW4GsTVETXP2mzXfMT2iC         0.892   0.633    0.1390   0.4590   \n",
       "126  72LlwJM24dWKpFLVB3PWWQ         0.824   0.554    0.1240   0.3160   \n",
       "164  0aWMostcnfyjuCEcO7sTz5         0.782   0.531    0.2380   0.2470   \n",
       "154  6JQvHMSaR8flFsN53ypOfP         0.699   0.558    0.1160   0.4930   \n",
       "79   7fa9MBXhVfQ8P8Df9OEbD8         0.851   0.541    0.1300   0.4480   \n",
       "103  42k9e2hgl98IdgkXLg4pxs         0.636   0.501    0.3390   0.1960   \n",
       "127  3gE4eQH3K83Sght0ZLvuBK         0.816   0.538    0.0990   0.1560   \n",
       "130  59ywHNwwchG4nZJMLyxSzd         0.919   0.622    0.1220   0.4240   \n",
       "122  0Fv5N0cHBsl4bzCbollCAS         0.812   0.522    0.1540   0.3800   \n",
       "\n",
       "     speechiness  loudness  label  \n",
       "111       0.1020  0.680254      0  \n",
       "159       0.0645  0.426918      0  \n",
       "77        0.0705  0.647130      0  \n",
       "132       0.2400  0.705097      0  \n",
       "120       0.3070  0.632980      0  \n",
       "116       0.4230  0.584580      0  \n",
       "115       0.2280  0.623734      0  \n",
       "158       0.1710  0.615774      0  \n",
       "133       0.0409  0.685641      0  \n",
       "165       0.3220  0.644316      0  \n",
       "113       0.1250  0.658064      0  \n",
       "105       0.0902  0.613282      0  \n",
       "126       0.1150  0.641663      0  \n",
       "164       0.1680  0.680415      0  \n",
       "154       0.0603  0.601142      0  \n",
       "79        0.0505  0.665219      0  \n",
       "103       0.3290  0.630246      0  \n",
       "127       0.0617  0.703087      0  \n",
       "130       0.0997  0.620277      0  \n",
       "122       0.2570  0.788873      0  "
      ]
     },
     "execution_count": 18,
     "metadata": {},
     "output_type": "execute_result"
    }
   ],
   "source": [
    "df[df['label'] == 0].tail(20)\n",
    "#rap"
   ]
  },
  {
   "cell_type": "code",
   "execution_count": 19,
   "id": "oWBvk8SDdf47",
   "metadata": {
    "colab": {
     "base_uri": "https://localhost:8080/",
     "height": 1000
    },
    "id": "oWBvk8SDdf47",
    "outputId": "f9480e16-41dc-4fb5-8b1b-ca90bb3e3919"
   },
   "outputs": [
    {
     "data": {
      "text/html": [
       "<div>\n",
       "<style scoped>\n",
       "    .dataframe tbody tr th:only-of-type {\n",
       "        vertical-align: middle;\n",
       "    }\n",
       "\n",
       "    .dataframe tbody tr th {\n",
       "        vertical-align: top;\n",
       "    }\n",
       "\n",
       "    .dataframe thead th {\n",
       "        text-align: right;\n",
       "    }\n",
       "</style>\n",
       "<table border=\"1\" class=\"dataframe\">\n",
       "  <thead>\n",
       "    <tr style=\"text-align: right;\">\n",
       "      <th></th>\n",
       "      <th>name</th>\n",
       "      <th>artist</th>\n",
       "      <th>id</th>\n",
       "      <th>danceability</th>\n",
       "      <th>energy</th>\n",
       "      <th>liveness</th>\n",
       "      <th>valence</th>\n",
       "      <th>speechiness</th>\n",
       "      <th>loudness</th>\n",
       "      <th>label</th>\n",
       "    </tr>\n",
       "  </thead>\n",
       "  <tbody>\n",
       "    <tr>\n",
       "      <th>90</th>\n",
       "      <td>It's Gotta Be You</td>\n",
       "      <td>Isaiah Firebrace</td>\n",
       "      <td>6cAKeFFYW2aClZSUyvqAEW</td>\n",
       "      <td>0.422</td>\n",
       "      <td>0.745</td>\n",
       "      <td>0.0981</td>\n",
       "      <td>0.588</td>\n",
       "      <td>0.0378</td>\n",
       "      <td>0.841534</td>\n",
       "      <td>1</td>\n",
       "    </tr>\n",
       "    <tr>\n",
       "      <th>119</th>\n",
       "      <td>Lucid Dreams</td>\n",
       "      <td>Juice WRLD</td>\n",
       "      <td>285pBltuF7vW8TeWk8hdRR</td>\n",
       "      <td>0.511</td>\n",
       "      <td>0.566</td>\n",
       "      <td>0.3400</td>\n",
       "      <td>0.218</td>\n",
       "      <td>0.2000</td>\n",
       "      <td>0.632658</td>\n",
       "      <td>1</td>\n",
       "    </tr>\n",
       "    <tr>\n",
       "      <th>166</th>\n",
       "      <td>Champion (feat. Travis Scott)</td>\n",
       "      <td>NAV</td>\n",
       "      <td>6nO3tr47nr2P7f3hXb8JIo</td>\n",
       "      <td>0.642</td>\n",
       "      <td>0.782</td>\n",
       "      <td>0.1080</td>\n",
       "      <td>0.396</td>\n",
       "      <td>0.0477</td>\n",
       "      <td>0.940987</td>\n",
       "      <td>1</td>\n",
       "    </tr>\n",
       "    <tr>\n",
       "      <th>69</th>\n",
       "      <td>Too Much To Ask</td>\n",
       "      <td>Niall Horan</td>\n",
       "      <td>39jXnbACjiaiTwwhsr5sY5</td>\n",
       "      <td>0.443</td>\n",
       "      <td>0.533</td>\n",
       "      <td>0.1280</td>\n",
       "      <td>0.201</td>\n",
       "      <td>0.0396</td>\n",
       "      <td>0.687490</td>\n",
       "      <td>1</td>\n",
       "    </tr>\n",
       "    <tr>\n",
       "      <th>92</th>\n",
       "      <td>Chasing Cars</td>\n",
       "      <td>Snow Patrol</td>\n",
       "      <td>11bD1JtSjlIgKgZG2134DZ</td>\n",
       "      <td>0.563</td>\n",
       "      <td>0.592</td>\n",
       "      <td>0.1320</td>\n",
       "      <td>0.136</td>\n",
       "      <td>0.0276</td>\n",
       "      <td>0.846438</td>\n",
       "      <td>1</td>\n",
       "    </tr>\n",
       "    <tr>\n",
       "      <th>55</th>\n",
       "      <td>Tum Se Hi</td>\n",
       "      <td>Pritam</td>\n",
       "      <td>7eQl3Yqv35ioqUfveKHitE</td>\n",
       "      <td>0.609</td>\n",
       "      <td>0.538</td>\n",
       "      <td>0.1250</td>\n",
       "      <td>0.608</td>\n",
       "      <td>0.0273</td>\n",
       "      <td>0.583454</td>\n",
       "      <td>1</td>\n",
       "    </tr>\n",
       "    <tr>\n",
       "      <th>53</th>\n",
       "      <td>Ae Dil Hai Mushkil Title Track</td>\n",
       "      <td>Pritam</td>\n",
       "      <td>1UWacd8x8tPPwmrPB1MoBI</td>\n",
       "      <td>0.495</td>\n",
       "      <td>0.654</td>\n",
       "      <td>0.1650</td>\n",
       "      <td>0.350</td>\n",
       "      <td>0.0679</td>\n",
       "      <td>0.680174</td>\n",
       "      <td>1</td>\n",
       "    </tr>\n",
       "    <tr>\n",
       "      <th>43</th>\n",
       "      <td>Sajdaa</td>\n",
       "      <td>Shankar-Ehsaan-Loy</td>\n",
       "      <td>5upmbnXemLfPvs3d2eyHml</td>\n",
       "      <td>0.468</td>\n",
       "      <td>0.737</td>\n",
       "      <td>0.0655</td>\n",
       "      <td>0.572</td>\n",
       "      <td>0.0765</td>\n",
       "      <td>0.629120</td>\n",
       "      <td>1</td>\n",
       "    </tr>\n",
       "    <tr>\n",
       "      <th>25</th>\n",
       "      <td>Raabta (From \"Agent Vinod\")</td>\n",
       "      <td>Arijit Singh</td>\n",
       "      <td>6tzckBcK66LzeSA1Opnv35</td>\n",
       "      <td>0.657</td>\n",
       "      <td>0.581</td>\n",
       "      <td>0.1160</td>\n",
       "      <td>0.320</td>\n",
       "      <td>0.0298</td>\n",
       "      <td>0.562068</td>\n",
       "      <td>1</td>\n",
       "    </tr>\n",
       "    <tr>\n",
       "      <th>83</th>\n",
       "      <td>The Other</td>\n",
       "      <td>Lauv</td>\n",
       "      <td>0EAzlhtMYxRb6wbi6KnPjC</td>\n",
       "      <td>0.380</td>\n",
       "      <td>0.553</td>\n",
       "      <td>0.0788</td>\n",
       "      <td>0.384</td>\n",
       "      <td>0.0653</td>\n",
       "      <td>0.681621</td>\n",
       "      <td>1</td>\n",
       "    </tr>\n",
       "    <tr>\n",
       "      <th>74</th>\n",
       "      <td>Like I'm Gonna Lose You (feat. John Legend)</td>\n",
       "      <td>Meghan Trainor</td>\n",
       "      <td>1XXbgifsLFB5pRNWuRqz0t</td>\n",
       "      <td>0.630</td>\n",
       "      <td>0.530</td>\n",
       "      <td>0.1770</td>\n",
       "      <td>0.417</td>\n",
       "      <td>0.0434</td>\n",
       "      <td>0.630326</td>\n",
       "      <td>1</td>\n",
       "    </tr>\n",
       "    <tr>\n",
       "      <th>13</th>\n",
       "      <td>remember the mornings</td>\n",
       "      <td>Clinton Kane</td>\n",
       "      <td>27kcZEJvhkb1rzZS9gCpdA</td>\n",
       "      <td>0.590</td>\n",
       "      <td>0.443</td>\n",
       "      <td>0.1100</td>\n",
       "      <td>0.342</td>\n",
       "      <td>0.0722</td>\n",
       "      <td>0.758723</td>\n",
       "      <td>1</td>\n",
       "    </tr>\n",
       "    <tr>\n",
       "      <th>110</th>\n",
       "      <td>Pray For Me (with Kendrick Lamar)</td>\n",
       "      <td>The Weeknd</td>\n",
       "      <td>5k9YFf1kIUBHs8vlZXYJTQ</td>\n",
       "      <td>0.735</td>\n",
       "      <td>0.677</td>\n",
       "      <td>0.1110</td>\n",
       "      <td>0.188</td>\n",
       "      <td>0.0930</td>\n",
       "      <td>0.813636</td>\n",
       "      <td>1</td>\n",
       "    </tr>\n",
       "    <tr>\n",
       "      <th>5</th>\n",
       "      <td>Choke</td>\n",
       "      <td>OneRepublic</td>\n",
       "      <td>5xtliWYBVT4cKo9BtBn43B</td>\n",
       "      <td>0.582</td>\n",
       "      <td>0.607</td>\n",
       "      <td>0.1160</td>\n",
       "      <td>0.263</td>\n",
       "      <td>0.0346</td>\n",
       "      <td>0.699630</td>\n",
       "      <td>1</td>\n",
       "    </tr>\n",
       "    <tr>\n",
       "      <th>80</th>\n",
       "      <td>Say You Won't Let Go</td>\n",
       "      <td>James Arthur</td>\n",
       "      <td>5uCax9HTNlzGybIStD3vDh</td>\n",
       "      <td>0.358</td>\n",
       "      <td>0.557</td>\n",
       "      <td>0.0902</td>\n",
       "      <td>0.494</td>\n",
       "      <td>0.0590</td>\n",
       "      <td>0.619151</td>\n",
       "      <td>1</td>\n",
       "    </tr>\n",
       "    <tr>\n",
       "      <th>67</th>\n",
       "      <td>Good Years</td>\n",
       "      <td>ZAYN</td>\n",
       "      <td>1V1NpX9DlBb9koXof9nIBF</td>\n",
       "      <td>0.639</td>\n",
       "      <td>0.411</td>\n",
       "      <td>0.1410</td>\n",
       "      <td>0.158</td>\n",
       "      <td>0.0420</td>\n",
       "      <td>0.733237</td>\n",
       "      <td>1</td>\n",
       "    </tr>\n",
       "    <tr>\n",
       "      <th>48</th>\n",
       "      <td>Tere Sang Yaara</td>\n",
       "      <td>Atif Aslam</td>\n",
       "      <td>4BOYIpYF7zTYtAkpjoD687</td>\n",
       "      <td>0.539</td>\n",
       "      <td>0.551</td>\n",
       "      <td>0.1240</td>\n",
       "      <td>0.556</td>\n",
       "      <td>0.0361</td>\n",
       "      <td>0.622930</td>\n",
       "      <td>1</td>\n",
       "    </tr>\n",
       "    <tr>\n",
       "      <th>89</th>\n",
       "      <td>Count On You (feat. Jordin Sparks)</td>\n",
       "      <td>Big Time Rush</td>\n",
       "      <td>3EoYNnDswdgTG2FIqM5wbA</td>\n",
       "      <td>0.636</td>\n",
       "      <td>0.691</td>\n",
       "      <td>0.1610</td>\n",
       "      <td>0.288</td>\n",
       "      <td>0.0353</td>\n",
       "      <td>0.856327</td>\n",
       "      <td>1</td>\n",
       "    </tr>\n",
       "    <tr>\n",
       "      <th>41</th>\n",
       "      <td>Tum Hi Ho (From \"Aashiqui 2\")</td>\n",
       "      <td>Arijit Singh</td>\n",
       "      <td>3oKuEvvclPj25AifUVoKxS</td>\n",
       "      <td>0.528</td>\n",
       "      <td>0.449</td>\n",
       "      <td>0.1220</td>\n",
       "      <td>0.317</td>\n",
       "      <td>0.0250</td>\n",
       "      <td>0.711449</td>\n",
       "      <td>1</td>\n",
       "    </tr>\n",
       "    <tr>\n",
       "      <th>38</th>\n",
       "      <td>Jag Soona Soona Lage</td>\n",
       "      <td>Rahat Fateh Ali Khan</td>\n",
       "      <td>2sVzO3L0fdOMVe8wVlM0IE</td>\n",
       "      <td>0.563</td>\n",
       "      <td>0.710</td>\n",
       "      <td>0.1050</td>\n",
       "      <td>0.262</td>\n",
       "      <td>0.0592</td>\n",
       "      <td>0.714504</td>\n",
       "      <td>1</td>\n",
       "    </tr>\n",
       "    <tr>\n",
       "      <th>151</th>\n",
       "      <td>Mo Bamba</td>\n",
       "      <td>Sheck Wes</td>\n",
       "      <td>3QybPutx0Tjk472bBKjNWn</td>\n",
       "      <td>0.738</td>\n",
       "      <td>0.629</td>\n",
       "      <td>0.1630</td>\n",
       "      <td>0.319</td>\n",
       "      <td>0.0495</td>\n",
       "      <td>0.821434</td>\n",
       "      <td>1</td>\n",
       "    </tr>\n",
       "    <tr>\n",
       "      <th>47</th>\n",
       "      <td>Sunn Raha Hai</td>\n",
       "      <td>Ankit Tiwari</td>\n",
       "      <td>5PvwPy5eRO8BPwpRzCHK3D</td>\n",
       "      <td>0.394</td>\n",
       "      <td>0.641</td>\n",
       "      <td>0.0958</td>\n",
       "      <td>0.335</td>\n",
       "      <td>0.0312</td>\n",
       "      <td>0.691912</td>\n",
       "      <td>1</td>\n",
       "    </tr>\n",
       "    <tr>\n",
       "      <th>114</th>\n",
       "      <td>Same Bitches</td>\n",
       "      <td>Post Malone</td>\n",
       "      <td>6ku6wzXQd8CgBqmKt5tBv0</td>\n",
       "      <td>0.730</td>\n",
       "      <td>0.745</td>\n",
       "      <td>0.1140</td>\n",
       "      <td>0.196</td>\n",
       "      <td>0.0708</td>\n",
       "      <td>0.787104</td>\n",
       "      <td>1</td>\n",
       "    </tr>\n",
       "    <tr>\n",
       "      <th>71</th>\n",
       "      <td>Scars To Your Beautiful</td>\n",
       "      <td>Alessia Cara</td>\n",
       "      <td>42ydLwx4i5V49RXHOozJZq</td>\n",
       "      <td>0.319</td>\n",
       "      <td>0.739</td>\n",
       "      <td>0.1110</td>\n",
       "      <td>0.449</td>\n",
       "      <td>0.2720</td>\n",
       "      <td>0.752452</td>\n",
       "      <td>1</td>\n",
       "    </tr>\n",
       "    <tr>\n",
       "      <th>169</th>\n",
       "      <td>On The Road (feat. Meek Mill &amp; Lil Baby)</td>\n",
       "      <td>Post Malone</td>\n",
       "      <td>2vAHW5LchZHVvLOg84bLyD</td>\n",
       "      <td>0.575</td>\n",
       "      <td>0.728</td>\n",
       "      <td>0.1020</td>\n",
       "      <td>0.221</td>\n",
       "      <td>0.0905</td>\n",
       "      <td>0.804068</td>\n",
       "      <td>1</td>\n",
       "    </tr>\n",
       "    <tr>\n",
       "      <th>168</th>\n",
       "      <td>Antidote</td>\n",
       "      <td>Travis Scott</td>\n",
       "      <td>1wHZx0LgzFHyeIZkUydNXq</td>\n",
       "      <td>0.713</td>\n",
       "      <td>0.526</td>\n",
       "      <td>0.1240</td>\n",
       "      <td>0.131</td>\n",
       "      <td>0.0320</td>\n",
       "      <td>0.808249</td>\n",
       "      <td>1</td>\n",
       "    </tr>\n",
       "    <tr>\n",
       "      <th>2</th>\n",
       "      <td>Can I Be Him</td>\n",
       "      <td>James Arthur</td>\n",
       "      <td>0VhgEqMTNZwYL1ARDLLNCX</td>\n",
       "      <td>0.696</td>\n",
       "      <td>0.543</td>\n",
       "      <td>0.0939</td>\n",
       "      <td>0.479</td>\n",
       "      <td>0.0489</td>\n",
       "      <td>0.718363</td>\n",
       "      <td>1</td>\n",
       "    </tr>\n",
       "    <tr>\n",
       "      <th>59</th>\n",
       "      <td>Humsafar (From \"Badrinath Ki Dulhania\")</td>\n",
       "      <td>Akhil Sachdeva</td>\n",
       "      <td>7aE1lfskJLMHQnzCCP1zsV</td>\n",
       "      <td>0.319</td>\n",
       "      <td>0.552</td>\n",
       "      <td>0.1440</td>\n",
       "      <td>0.221</td>\n",
       "      <td>0.0307</td>\n",
       "      <td>0.699309</td>\n",
       "      <td>1</td>\n",
       "    </tr>\n",
       "    <tr>\n",
       "      <th>62</th>\n",
       "      <td>Gerua</td>\n",
       "      <td>Pritam</td>\n",
       "      <td>7iLA6PQeQWRjLDHOJgGpj5</td>\n",
       "      <td>0.371</td>\n",
       "      <td>0.668</td>\n",
       "      <td>0.2940</td>\n",
       "      <td>0.403</td>\n",
       "      <td>0.0497</td>\n",
       "      <td>0.629522</td>\n",
       "      <td>1</td>\n",
       "    </tr>\n",
       "    <tr>\n",
       "      <th>17</th>\n",
       "      <td>Next to You</td>\n",
       "      <td>New West</td>\n",
       "      <td>0c57qFe4YRCUk1xGNnqDFB</td>\n",
       "      <td>0.385</td>\n",
       "      <td>0.658</td>\n",
       "      <td>0.3570</td>\n",
       "      <td>0.391</td>\n",
       "      <td>0.0262</td>\n",
       "      <td>0.798601</td>\n",
       "      <td>1</td>\n",
       "    </tr>\n",
       "    <tr>\n",
       "      <th>76</th>\n",
       "      <td>Someone You Loved</td>\n",
       "      <td>Lewis Capaldi</td>\n",
       "      <td>2TIlqbIneP0ZY1O0EzYLlc</td>\n",
       "      <td>0.501</td>\n",
       "      <td>0.405</td>\n",
       "      <td>0.1050</td>\n",
       "      <td>0.446</td>\n",
       "      <td>0.0319</td>\n",
       "      <td>0.757356</td>\n",
       "      <td>1</td>\n",
       "    </tr>\n",
       "    <tr>\n",
       "      <th>7</th>\n",
       "      <td>Till Forever Falls Apart</td>\n",
       "      <td>Ashe</td>\n",
       "      <td>2769RhOZs0ezRncRW1vryp</td>\n",
       "      <td>0.509</td>\n",
       "      <td>0.498</td>\n",
       "      <td>0.0674</td>\n",
       "      <td>0.283</td>\n",
       "      <td>0.0315</td>\n",
       "      <td>0.655974</td>\n",
       "      <td>1</td>\n",
       "    </tr>\n",
       "    <tr>\n",
       "      <th>6</th>\n",
       "      <td>deja vu</td>\n",
       "      <td>Olivia Rodrigo</td>\n",
       "      <td>6HU7h9RYOaPRFeh0R3UeAr</td>\n",
       "      <td>0.442</td>\n",
       "      <td>0.612</td>\n",
       "      <td>0.3700</td>\n",
       "      <td>0.178</td>\n",
       "      <td>0.1120</td>\n",
       "      <td>0.633301</td>\n",
       "      <td>1</td>\n",
       "    </tr>\n",
       "    <tr>\n",
       "      <th>57</th>\n",
       "      <td>Nazm Nazm feat. Ayushmann Khurana</td>\n",
       "      <td>Ayushmann Khurrana</td>\n",
       "      <td>3FLJR1N1dxOYEpZCsTX8p6</td>\n",
       "      <td>0.555</td>\n",
       "      <td>0.496</td>\n",
       "      <td>0.0767</td>\n",
       "      <td>0.391</td>\n",
       "      <td>0.0329</td>\n",
       "      <td>0.637080</td>\n",
       "      <td>1</td>\n",
       "    </tr>\n",
       "    <tr>\n",
       "      <th>153</th>\n",
       "      <td>Pure Water (with Migos)</td>\n",
       "      <td>Mustard</td>\n",
       "      <td>63cd4JkwGgYJrbOizbfmsp</td>\n",
       "      <td>0.680</td>\n",
       "      <td>0.559</td>\n",
       "      <td>0.3180</td>\n",
       "      <td>0.137</td>\n",
       "      <td>0.1290</td>\n",
       "      <td>0.768130</td>\n",
       "      <td>1</td>\n",
       "    </tr>\n",
       "    <tr>\n",
       "      <th>42</th>\n",
       "      <td>Kabira</td>\n",
       "      <td>Pritam</td>\n",
       "      <td>4bD9z9qa4qg9BhryvYWB7c</td>\n",
       "      <td>0.590</td>\n",
       "      <td>0.555</td>\n",
       "      <td>0.1920</td>\n",
       "      <td>0.191</td>\n",
       "      <td>0.0271</td>\n",
       "      <td>0.662325</td>\n",
       "      <td>1</td>\n",
       "    </tr>\n",
       "    <tr>\n",
       "      <th>142</th>\n",
       "      <td>Candy Paint</td>\n",
       "      <td>Post Malone</td>\n",
       "      <td>5wN7W4SMpPsV2PyrzLe574</td>\n",
       "      <td>0.667</td>\n",
       "      <td>0.665</td>\n",
       "      <td>0.0721</td>\n",
       "      <td>0.423</td>\n",
       "      <td>0.1890</td>\n",
       "      <td>0.764834</td>\n",
       "      <td>1</td>\n",
       "    </tr>\n",
       "    <tr>\n",
       "      <th>29</th>\n",
       "      <td>Sooraj Dooba Hain</td>\n",
       "      <td>Aditi Singh Sharma</td>\n",
       "      <td>2rSCesM8QQvGjvkJg3xsOS</td>\n",
       "      <td>0.607</td>\n",
       "      <td>0.774</td>\n",
       "      <td>0.1760</td>\n",
       "      <td>0.467</td>\n",
       "      <td>0.0632</td>\n",
       "      <td>0.847323</td>\n",
       "      <td>1</td>\n",
       "    </tr>\n",
       "    <tr>\n",
       "      <th>94</th>\n",
       "      <td>Wait (feat. A Boogie Wit da Hoodie)</td>\n",
       "      <td>Maroon 5</td>\n",
       "      <td>0SvxydoxEEkXt9aMAqTfpB</td>\n",
       "      <td>0.707</td>\n",
       "      <td>0.608</td>\n",
       "      <td>0.1180</td>\n",
       "      <td>0.414</td>\n",
       "      <td>0.0548</td>\n",
       "      <td>0.851021</td>\n",
       "      <td>1</td>\n",
       "    </tr>\n",
       "    <tr>\n",
       "      <th>51</th>\n",
       "      <td>Tera Yaar Hoon Main (From \"Sonu Ke Titu Ki Swe...</td>\n",
       "      <td>Arijit Singh</td>\n",
       "      <td>1aIhAX6324JZmhNnGltwkK</td>\n",
       "      <td>0.559</td>\n",
       "      <td>0.541</td>\n",
       "      <td>0.1020</td>\n",
       "      <td>0.309</td>\n",
       "      <td>0.0313</td>\n",
       "      <td>0.769738</td>\n",
       "      <td>1</td>\n",
       "    </tr>\n",
       "    <tr>\n",
       "      <th>65</th>\n",
       "      <td>There You Are</td>\n",
       "      <td>ZAYN</td>\n",
       "      <td>155EsNGoXo7XSVF84oTPam</td>\n",
       "      <td>0.452</td>\n",
       "      <td>0.688</td>\n",
       "      <td>0.1100</td>\n",
       "      <td>0.313</td>\n",
       "      <td>0.0385</td>\n",
       "      <td>0.824811</td>\n",
       "      <td>1</td>\n",
       "    </tr>\n",
       "    <tr>\n",
       "      <th>88</th>\n",
       "      <td>Halfway There</td>\n",
       "      <td>Big Time Rush</td>\n",
       "      <td>2dq3CylL7hxKaPpAaEff3J</td>\n",
       "      <td>0.542</td>\n",
       "      <td>0.899</td>\n",
       "      <td>0.1430</td>\n",
       "      <td>0.348</td>\n",
       "      <td>0.0532</td>\n",
       "      <td>0.835022</td>\n",
       "      <td>1</td>\n",
       "    </tr>\n",
       "    <tr>\n",
       "      <th>160</th>\n",
       "      <td>Celebrate (feat. Travis Scott &amp; Post Malone)</td>\n",
       "      <td>DJ Khaled</td>\n",
       "      <td>0b6UoVjUzFyZNpHI0aAhKt</td>\n",
       "      <td>0.362</td>\n",
       "      <td>0.714</td>\n",
       "      <td>0.2100</td>\n",
       "      <td>0.309</td>\n",
       "      <td>0.0835</td>\n",
       "      <td>0.967117</td>\n",
       "      <td>1</td>\n",
       "    </tr>\n",
       "  </tbody>\n",
       "</table>\n",
       "</div>"
      ],
      "text/plain": [
       "                                                  name                artist  \\\n",
       "90                                   It's Gotta Be You      Isaiah Firebrace   \n",
       "119                                       Lucid Dreams            Juice WRLD   \n",
       "166                      Champion (feat. Travis Scott)                   NAV   \n",
       "69                                     Too Much To Ask           Niall Horan   \n",
       "92                                        Chasing Cars           Snow Patrol   \n",
       "55                                           Tum Se Hi                Pritam   \n",
       "53                      Ae Dil Hai Mushkil Title Track                Pritam   \n",
       "43                                              Sajdaa    Shankar-Ehsaan-Loy   \n",
       "25                         Raabta (From \"Agent Vinod\")          Arijit Singh   \n",
       "83                                           The Other                  Lauv   \n",
       "74         Like I'm Gonna Lose You (feat. John Legend)        Meghan Trainor   \n",
       "13                               remember the mornings          Clinton Kane   \n",
       "110                  Pray For Me (with Kendrick Lamar)            The Weeknd   \n",
       "5                                                Choke           OneRepublic   \n",
       "80                                Say You Won't Let Go          James Arthur   \n",
       "67                                          Good Years                  ZAYN   \n",
       "48                                     Tere Sang Yaara            Atif Aslam   \n",
       "89                  Count On You (feat. Jordin Sparks)         Big Time Rush   \n",
       "41                       Tum Hi Ho (From \"Aashiqui 2\")          Arijit Singh   \n",
       "38                                Jag Soona Soona Lage  Rahat Fateh Ali Khan   \n",
       "151                                           Mo Bamba             Sheck Wes   \n",
       "47                                       Sunn Raha Hai          Ankit Tiwari   \n",
       "114                                       Same Bitches           Post Malone   \n",
       "71                             Scars To Your Beautiful          Alessia Cara   \n",
       "169           On The Road (feat. Meek Mill & Lil Baby)           Post Malone   \n",
       "168                                           Antidote          Travis Scott   \n",
       "2                                         Can I Be Him          James Arthur   \n",
       "59             Humsafar (From \"Badrinath Ki Dulhania\")        Akhil Sachdeva   \n",
       "62                                               Gerua                Pritam   \n",
       "17                                         Next to You              New West   \n",
       "76                                   Someone You Loved         Lewis Capaldi   \n",
       "7                             Till Forever Falls Apart                  Ashe   \n",
       "6                                              deja vu        Olivia Rodrigo   \n",
       "57                   Nazm Nazm feat. Ayushmann Khurana    Ayushmann Khurrana   \n",
       "153                            Pure Water (with Migos)               Mustard   \n",
       "42                                              Kabira                Pritam   \n",
       "142                                        Candy Paint           Post Malone   \n",
       "29                                   Sooraj Dooba Hain    Aditi Singh Sharma   \n",
       "94                 Wait (feat. A Boogie Wit da Hoodie)              Maroon 5   \n",
       "51   Tera Yaar Hoon Main (From \"Sonu Ke Titu Ki Swe...          Arijit Singh   \n",
       "65                                       There You Are                  ZAYN   \n",
       "88                                       Halfway There         Big Time Rush   \n",
       "160       Celebrate (feat. Travis Scott & Post Malone)             DJ Khaled   \n",
       "\n",
       "                         id  danceability  energy  liveness  valence  \\\n",
       "90   6cAKeFFYW2aClZSUyvqAEW         0.422   0.745    0.0981    0.588   \n",
       "119  285pBltuF7vW8TeWk8hdRR         0.511   0.566    0.3400    0.218   \n",
       "166  6nO3tr47nr2P7f3hXb8JIo         0.642   0.782    0.1080    0.396   \n",
       "69   39jXnbACjiaiTwwhsr5sY5         0.443   0.533    0.1280    0.201   \n",
       "92   11bD1JtSjlIgKgZG2134DZ         0.563   0.592    0.1320    0.136   \n",
       "55   7eQl3Yqv35ioqUfveKHitE         0.609   0.538    0.1250    0.608   \n",
       "53   1UWacd8x8tPPwmrPB1MoBI         0.495   0.654    0.1650    0.350   \n",
       "43   5upmbnXemLfPvs3d2eyHml         0.468   0.737    0.0655    0.572   \n",
       "25   6tzckBcK66LzeSA1Opnv35         0.657   0.581    0.1160    0.320   \n",
       "83   0EAzlhtMYxRb6wbi6KnPjC         0.380   0.553    0.0788    0.384   \n",
       "74   1XXbgifsLFB5pRNWuRqz0t         0.630   0.530    0.1770    0.417   \n",
       "13   27kcZEJvhkb1rzZS9gCpdA         0.590   0.443    0.1100    0.342   \n",
       "110  5k9YFf1kIUBHs8vlZXYJTQ         0.735   0.677    0.1110    0.188   \n",
       "5    5xtliWYBVT4cKo9BtBn43B         0.582   0.607    0.1160    0.263   \n",
       "80   5uCax9HTNlzGybIStD3vDh         0.358   0.557    0.0902    0.494   \n",
       "67   1V1NpX9DlBb9koXof9nIBF         0.639   0.411    0.1410    0.158   \n",
       "48   4BOYIpYF7zTYtAkpjoD687         0.539   0.551    0.1240    0.556   \n",
       "89   3EoYNnDswdgTG2FIqM5wbA         0.636   0.691    0.1610    0.288   \n",
       "41   3oKuEvvclPj25AifUVoKxS         0.528   0.449    0.1220    0.317   \n",
       "38   2sVzO3L0fdOMVe8wVlM0IE         0.563   0.710    0.1050    0.262   \n",
       "151  3QybPutx0Tjk472bBKjNWn         0.738   0.629    0.1630    0.319   \n",
       "47   5PvwPy5eRO8BPwpRzCHK3D         0.394   0.641    0.0958    0.335   \n",
       "114  6ku6wzXQd8CgBqmKt5tBv0         0.730   0.745    0.1140    0.196   \n",
       "71   42ydLwx4i5V49RXHOozJZq         0.319   0.739    0.1110    0.449   \n",
       "169  2vAHW5LchZHVvLOg84bLyD         0.575   0.728    0.1020    0.221   \n",
       "168  1wHZx0LgzFHyeIZkUydNXq         0.713   0.526    0.1240    0.131   \n",
       "2    0VhgEqMTNZwYL1ARDLLNCX         0.696   0.543    0.0939    0.479   \n",
       "59   7aE1lfskJLMHQnzCCP1zsV         0.319   0.552    0.1440    0.221   \n",
       "62   7iLA6PQeQWRjLDHOJgGpj5         0.371   0.668    0.2940    0.403   \n",
       "17   0c57qFe4YRCUk1xGNnqDFB         0.385   0.658    0.3570    0.391   \n",
       "76   2TIlqbIneP0ZY1O0EzYLlc         0.501   0.405    0.1050    0.446   \n",
       "7    2769RhOZs0ezRncRW1vryp         0.509   0.498    0.0674    0.283   \n",
       "6    6HU7h9RYOaPRFeh0R3UeAr         0.442   0.612    0.3700    0.178   \n",
       "57   3FLJR1N1dxOYEpZCsTX8p6         0.555   0.496    0.0767    0.391   \n",
       "153  63cd4JkwGgYJrbOizbfmsp         0.680   0.559    0.3180    0.137   \n",
       "42   4bD9z9qa4qg9BhryvYWB7c         0.590   0.555    0.1920    0.191   \n",
       "142  5wN7W4SMpPsV2PyrzLe574         0.667   0.665    0.0721    0.423   \n",
       "29   2rSCesM8QQvGjvkJg3xsOS         0.607   0.774    0.1760    0.467   \n",
       "94   0SvxydoxEEkXt9aMAqTfpB         0.707   0.608    0.1180    0.414   \n",
       "51   1aIhAX6324JZmhNnGltwkK         0.559   0.541    0.1020    0.309   \n",
       "65   155EsNGoXo7XSVF84oTPam         0.452   0.688    0.1100    0.313   \n",
       "88   2dq3CylL7hxKaPpAaEff3J         0.542   0.899    0.1430    0.348   \n",
       "160  0b6UoVjUzFyZNpHI0aAhKt         0.362   0.714    0.2100    0.309   \n",
       "\n",
       "     speechiness  loudness  label  \n",
       "90        0.0378  0.841534      1  \n",
       "119       0.2000  0.632658      1  \n",
       "166       0.0477  0.940987      1  \n",
       "69        0.0396  0.687490      1  \n",
       "92        0.0276  0.846438      1  \n",
       "55        0.0273  0.583454      1  \n",
       "53        0.0679  0.680174      1  \n",
       "43        0.0765  0.629120      1  \n",
       "25        0.0298  0.562068      1  \n",
       "83        0.0653  0.681621      1  \n",
       "74        0.0434  0.630326      1  \n",
       "13        0.0722  0.758723      1  \n",
       "110       0.0930  0.813636      1  \n",
       "5         0.0346  0.699630      1  \n",
       "80        0.0590  0.619151      1  \n",
       "67        0.0420  0.733237      1  \n",
       "48        0.0361  0.622930      1  \n",
       "89        0.0353  0.856327      1  \n",
       "41        0.0250  0.711449      1  \n",
       "38        0.0592  0.714504      1  \n",
       "151       0.0495  0.821434      1  \n",
       "47        0.0312  0.691912      1  \n",
       "114       0.0708  0.787104      1  \n",
       "71        0.2720  0.752452      1  \n",
       "169       0.0905  0.804068      1  \n",
       "168       0.0320  0.808249      1  \n",
       "2         0.0489  0.718363      1  \n",
       "59        0.0307  0.699309      1  \n",
       "62        0.0497  0.629522      1  \n",
       "17        0.0262  0.798601      1  \n",
       "76        0.0319  0.757356      1  \n",
       "7         0.0315  0.655974      1  \n",
       "6         0.1120  0.633301      1  \n",
       "57        0.0329  0.637080      1  \n",
       "153       0.1290  0.768130      1  \n",
       "42        0.0271  0.662325      1  \n",
       "142       0.1890  0.764834      1  \n",
       "29        0.0632  0.847323      1  \n",
       "94        0.0548  0.851021      1  \n",
       "51        0.0313  0.769738      1  \n",
       "65        0.0385  0.824811      1  \n",
       "88        0.0532  0.835022      1  \n",
       "160       0.0835  0.967117      1  "
      ]
     },
     "execution_count": 19,
     "metadata": {},
     "output_type": "execute_result"
    }
   ],
   "source": [
    "df[df['label'] == 1].tail(50)\n",
    "#romantic"
   ]
  },
  {
   "cell_type": "code",
   "execution_count": 20,
   "id": "Jvj1F2LjfIDp",
   "metadata": {
    "colab": {
     "base_uri": "https://localhost:8080/",
     "height": 519
    },
    "id": "Jvj1F2LjfIDp",
    "outputId": "dda5f477-dfd3-413b-e201-d1709261714a"
   },
   "outputs": [
    {
     "data": {
      "text/html": [
       "<div>\n",
       "<style scoped>\n",
       "    .dataframe tbody tr th:only-of-type {\n",
       "        vertical-align: middle;\n",
       "    }\n",
       "\n",
       "    .dataframe tbody tr th {\n",
       "        vertical-align: top;\n",
       "    }\n",
       "\n",
       "    .dataframe thead th {\n",
       "        text-align: right;\n",
       "    }\n",
       "</style>\n",
       "<table border=\"1\" class=\"dataframe\">\n",
       "  <thead>\n",
       "    <tr style=\"text-align: right;\">\n",
       "      <th></th>\n",
       "      <th>name</th>\n",
       "      <th>artist</th>\n",
       "      <th>id</th>\n",
       "      <th>danceability</th>\n",
       "      <th>energy</th>\n",
       "      <th>liveness</th>\n",
       "      <th>valence</th>\n",
       "      <th>speechiness</th>\n",
       "      <th>loudness</th>\n",
       "      <th>label</th>\n",
       "    </tr>\n",
       "  </thead>\n",
       "  <tbody>\n",
       "    <tr>\n",
       "      <th>95</th>\n",
       "      <td>Over And Over Again</td>\n",
       "      <td>Nathan Sykes</td>\n",
       "      <td>1ilQWV30hUZjBaupGUsaqK</td>\n",
       "      <td>0.610</td>\n",
       "      <td>0.250</td>\n",
       "      <td>0.0876</td>\n",
       "      <td>0.4460</td>\n",
       "      <td>0.0330</td>\n",
       "      <td>0.440666</td>\n",
       "      <td>2</td>\n",
       "    </tr>\n",
       "    <tr>\n",
       "      <th>0</th>\n",
       "      <td>Hold On</td>\n",
       "      <td>Chord Overstreet</td>\n",
       "      <td>5vjLSffimiIP26QG5WcN2K</td>\n",
       "      <td>0.618</td>\n",
       "      <td>0.443</td>\n",
       "      <td>0.0829</td>\n",
       "      <td>0.1670</td>\n",
       "      <td>0.0526</td>\n",
       "      <td>0.435601</td>\n",
       "      <td>2</td>\n",
       "    </tr>\n",
       "    <tr>\n",
       "      <th>84</th>\n",
       "      <td>The Story Never Ends</td>\n",
       "      <td>Lauv</td>\n",
       "      <td>3u5bTqHMM1P34ZkbwzdckV</td>\n",
       "      <td>0.614</td>\n",
       "      <td>0.126</td>\n",
       "      <td>0.1480</td>\n",
       "      <td>0.3510</td>\n",
       "      <td>0.0376</td>\n",
       "      <td>0.457951</td>\n",
       "      <td>2</td>\n",
       "    </tr>\n",
       "    <tr>\n",
       "      <th>18</th>\n",
       "      <td>With You</td>\n",
       "      <td>Dotan</td>\n",
       "      <td>7F4tdzXomvS7biLOJojIjs</td>\n",
       "      <td>0.597</td>\n",
       "      <td>0.440</td>\n",
       "      <td>0.0660</td>\n",
       "      <td>0.0656</td>\n",
       "      <td>0.0327</td>\n",
       "      <td>0.441389</td>\n",
       "      <td>2</td>\n",
       "    </tr>\n",
       "    <tr>\n",
       "      <th>9</th>\n",
       "      <td>How to Save a Life</td>\n",
       "      <td>Stephen Kramer Glickman</td>\n",
       "      <td>0hhR18R7KjZepv4wLQV7Pd</td>\n",
       "      <td>0.620</td>\n",
       "      <td>0.450</td>\n",
       "      <td>0.1220</td>\n",
       "      <td>0.3680</td>\n",
       "      <td>0.0288</td>\n",
       "      <td>0.567374</td>\n",
       "      <td>2</td>\n",
       "    </tr>\n",
       "    <tr>\n",
       "      <th>52</th>\n",
       "      <td>Kal Ho Naa Ho</td>\n",
       "      <td>Shankar-Ehsaan-Loy</td>\n",
       "      <td>251PNRmJU9KcUnFQAB5t6I</td>\n",
       "      <td>0.532</td>\n",
       "      <td>0.529</td>\n",
       "      <td>0.0780</td>\n",
       "      <td>0.2950</td>\n",
       "      <td>0.0352</td>\n",
       "      <td>0.538431</td>\n",
       "      <td>2</td>\n",
       "    </tr>\n",
       "    <tr>\n",
       "      <th>98</th>\n",
       "      <td>Crowded Room (feat. 6LACK)</td>\n",
       "      <td>Selena Gomez</td>\n",
       "      <td>01GjnpiQIW3nA8S4utHPNI</td>\n",
       "      <td>0.724</td>\n",
       "      <td>0.415</td>\n",
       "      <td>0.1030</td>\n",
       "      <td>0.3280</td>\n",
       "      <td>0.0518</td>\n",
       "      <td>0.537948</td>\n",
       "      <td>2</td>\n",
       "    </tr>\n",
       "    <tr>\n",
       "      <th>70</th>\n",
       "      <td>I Won’t Give Up</td>\n",
       "      <td>Jason Mraz</td>\n",
       "      <td>26TzE0IIiuqPKLaWfcsj4C</td>\n",
       "      <td>0.543</td>\n",
       "      <td>0.329</td>\n",
       "      <td>0.1120</td>\n",
       "      <td>0.1410</td>\n",
       "      <td>0.0449</td>\n",
       "      <td>0.453369</td>\n",
       "      <td>2</td>\n",
       "    </tr>\n",
       "    <tr>\n",
       "      <th>97</th>\n",
       "      <td>Superhero</td>\n",
       "      <td>Lauv</td>\n",
       "      <td>1Fo4OvzP9PThFKMeMIAEYu</td>\n",
       "      <td>0.681</td>\n",
       "      <td>0.340</td>\n",
       "      <td>0.2850</td>\n",
       "      <td>0.4170</td>\n",
       "      <td>0.0339</td>\n",
       "      <td>0.521145</td>\n",
       "      <td>2</td>\n",
       "    </tr>\n",
       "    <tr>\n",
       "      <th>19</th>\n",
       "      <td>i don't want to watch the world end with someo...</td>\n",
       "      <td>Clinton Kane</td>\n",
       "      <td>58qX77t2VWMWcycsh9zKLc</td>\n",
       "      <td>0.535</td>\n",
       "      <td>0.359</td>\n",
       "      <td>0.1110</td>\n",
       "      <td>0.4880</td>\n",
       "      <td>0.0607</td>\n",
       "      <td>0.462775</td>\n",
       "      <td>2</td>\n",
       "    </tr>\n",
       "    <tr>\n",
       "      <th>21</th>\n",
       "      <td>Broken</td>\n",
       "      <td>Jonah Kagen</td>\n",
       "      <td>3JE04xcSOB8zuUzzazuaDj</td>\n",
       "      <td>0.495</td>\n",
       "      <td>0.351</td>\n",
       "      <td>0.1040</td>\n",
       "      <td>0.2370</td>\n",
       "      <td>0.0626</td>\n",
       "      <td>0.251889</td>\n",
       "      <td>2</td>\n",
       "    </tr>\n",
       "    <tr>\n",
       "      <th>4</th>\n",
       "      <td>favorite crime</td>\n",
       "      <td>Olivia Rodrigo</td>\n",
       "      <td>5JCoSi02qi3jJeHdZXMmR8</td>\n",
       "      <td>0.369</td>\n",
       "      <td>0.272</td>\n",
       "      <td>0.1470</td>\n",
       "      <td>0.2180</td>\n",
       "      <td>0.0364</td>\n",
       "      <td>0.369995</td>\n",
       "      <td>2</td>\n",
       "    </tr>\n",
       "    <tr>\n",
       "      <th>14</th>\n",
       "      <td>Please Notice</td>\n",
       "      <td>Christian Leave</td>\n",
       "      <td>36seMHoyXmLUNxcwzwjdF7</td>\n",
       "      <td>0.550</td>\n",
       "      <td>0.271</td>\n",
       "      <td>0.1070</td>\n",
       "      <td>0.1980</td>\n",
       "      <td>0.0297</td>\n",
       "      <td>0.534491</td>\n",
       "      <td>2</td>\n",
       "    </tr>\n",
       "    <tr>\n",
       "      <th>1</th>\n",
       "      <td>Happier</td>\n",
       "      <td>Ed Sheeran</td>\n",
       "      <td>2RttW7RAu5nOAfq6YFvApB</td>\n",
       "      <td>0.522</td>\n",
       "      <td>0.385</td>\n",
       "      <td>0.1350</td>\n",
       "      <td>0.2360</td>\n",
       "      <td>0.0288</td>\n",
       "      <td>0.622608</td>\n",
       "      <td>2</td>\n",
       "    </tr>\n",
       "    <tr>\n",
       "      <th>50</th>\n",
       "      <td>Baarish Lete Aana</td>\n",
       "      <td>Darshan Raval</td>\n",
       "      <td>1TEV1XrPtV617Y4Po50P5e</td>\n",
       "      <td>0.537</td>\n",
       "      <td>0.351</td>\n",
       "      <td>0.1080</td>\n",
       "      <td>0.3150</td>\n",
       "      <td>0.0248</td>\n",
       "      <td>0.495417</td>\n",
       "      <td>2</td>\n",
       "    </tr>\n",
       "  </tbody>\n",
       "</table>\n",
       "</div>"
      ],
      "text/plain": [
       "                                                 name  \\\n",
       "95                                Over And Over Again   \n",
       "0                                             Hold On   \n",
       "84                               The Story Never Ends   \n",
       "18                                           With You   \n",
       "9                                  How to Save a Life   \n",
       "52                                      Kal Ho Naa Ho   \n",
       "98                         Crowded Room (feat. 6LACK)   \n",
       "70                                    I Won’t Give Up   \n",
       "97                                          Superhero   \n",
       "19  i don't want to watch the world end with someo...   \n",
       "21                                             Broken   \n",
       "4                                      favorite crime   \n",
       "14                                      Please Notice   \n",
       "1                                             Happier   \n",
       "50                                  Baarish Lete Aana   \n",
       "\n",
       "                     artist                      id  danceability  energy  \\\n",
       "95             Nathan Sykes  1ilQWV30hUZjBaupGUsaqK         0.610   0.250   \n",
       "0          Chord Overstreet  5vjLSffimiIP26QG5WcN2K         0.618   0.443   \n",
       "84                     Lauv  3u5bTqHMM1P34ZkbwzdckV         0.614   0.126   \n",
       "18                    Dotan  7F4tdzXomvS7biLOJojIjs         0.597   0.440   \n",
       "9   Stephen Kramer Glickman  0hhR18R7KjZepv4wLQV7Pd         0.620   0.450   \n",
       "52       Shankar-Ehsaan-Loy  251PNRmJU9KcUnFQAB5t6I         0.532   0.529   \n",
       "98             Selena Gomez  01GjnpiQIW3nA8S4utHPNI         0.724   0.415   \n",
       "70               Jason Mraz  26TzE0IIiuqPKLaWfcsj4C         0.543   0.329   \n",
       "97                     Lauv  1Fo4OvzP9PThFKMeMIAEYu         0.681   0.340   \n",
       "19             Clinton Kane  58qX77t2VWMWcycsh9zKLc         0.535   0.359   \n",
       "21              Jonah Kagen  3JE04xcSOB8zuUzzazuaDj         0.495   0.351   \n",
       "4            Olivia Rodrigo  5JCoSi02qi3jJeHdZXMmR8         0.369   0.272   \n",
       "14          Christian Leave  36seMHoyXmLUNxcwzwjdF7         0.550   0.271   \n",
       "1                Ed Sheeran  2RttW7RAu5nOAfq6YFvApB         0.522   0.385   \n",
       "50            Darshan Raval  1TEV1XrPtV617Y4Po50P5e         0.537   0.351   \n",
       "\n",
       "    liveness  valence  speechiness  loudness  label  \n",
       "95    0.0876   0.4460       0.0330  0.440666      2  \n",
       "0     0.0829   0.1670       0.0526  0.435601      2  \n",
       "84    0.1480   0.3510       0.0376  0.457951      2  \n",
       "18    0.0660   0.0656       0.0327  0.441389      2  \n",
       "9     0.1220   0.3680       0.0288  0.567374      2  \n",
       "52    0.0780   0.2950       0.0352  0.538431      2  \n",
       "98    0.1030   0.3280       0.0518  0.537948      2  \n",
       "70    0.1120   0.1410       0.0449  0.453369      2  \n",
       "97    0.2850   0.4170       0.0339  0.521145      2  \n",
       "19    0.1110   0.4880       0.0607  0.462775      2  \n",
       "21    0.1040   0.2370       0.0626  0.251889      2  \n",
       "4     0.1470   0.2180       0.0364  0.369995      2  \n",
       "14    0.1070   0.1980       0.0297  0.534491      2  \n",
       "1     0.1350   0.2360       0.0288  0.622608      2  \n",
       "50    0.1080   0.3150       0.0248  0.495417      2  "
      ]
     },
     "execution_count": 20,
     "metadata": {},
     "output_type": "execute_result"
    }
   ],
   "source": [
    "df[df['label'] == 2].tail(15)\n",
    "#Chill pop(kinda sad)"
   ]
  },
  {
   "cell_type": "code",
   "execution_count": 21,
   "id": "0gGK822ofUid",
   "metadata": {
    "colab": {
     "base_uri": "https://localhost:8080/",
     "height": 711
    },
    "id": "0gGK822ofUid",
    "outputId": "dfbcda0f-3f03-4d88-a849-263126407c47"
   },
   "outputs": [
    {
     "data": {
      "text/html": [
       "<div>\n",
       "<style scoped>\n",
       "    .dataframe tbody tr th:only-of-type {\n",
       "        vertical-align: middle;\n",
       "    }\n",
       "\n",
       "    .dataframe tbody tr th {\n",
       "        vertical-align: top;\n",
       "    }\n",
       "\n",
       "    .dataframe thead th {\n",
       "        text-align: right;\n",
       "    }\n",
       "</style>\n",
       "<table border=\"1\" class=\"dataframe\">\n",
       "  <thead>\n",
       "    <tr style=\"text-align: right;\">\n",
       "      <th></th>\n",
       "      <th>name</th>\n",
       "      <th>artist</th>\n",
       "      <th>id</th>\n",
       "      <th>danceability</th>\n",
       "      <th>energy</th>\n",
       "      <th>liveness</th>\n",
       "      <th>valence</th>\n",
       "      <th>speechiness</th>\n",
       "      <th>loudness</th>\n",
       "      <th>label</th>\n",
       "    </tr>\n",
       "  </thead>\n",
       "  <tbody>\n",
       "    <tr>\n",
       "      <th>27</th>\n",
       "      <td>The Breakup Song</td>\n",
       "      <td>Pritam</td>\n",
       "      <td>7BjQd0sfYsMGVrTpRdBNTT</td>\n",
       "      <td>0.818</td>\n",
       "      <td>0.930</td>\n",
       "      <td>0.6580</td>\n",
       "      <td>0.831</td>\n",
       "      <td>0.2470</td>\n",
       "      <td>0.974192</td>\n",
       "      <td>3</td>\n",
       "    </tr>\n",
       "    <tr>\n",
       "      <th>163</th>\n",
       "      <td>Carpet Burn</td>\n",
       "      <td>DaBaby</td>\n",
       "      <td>1N7CHs4eGjgr3gjyUgq75Y</td>\n",
       "      <td>0.824</td>\n",
       "      <td>0.859</td>\n",
       "      <td>0.2800</td>\n",
       "      <td>0.903</td>\n",
       "      <td>0.3020</td>\n",
       "      <td>0.758241</td>\n",
       "      <td>3</td>\n",
       "    </tr>\n",
       "    <tr>\n",
       "      <th>78</th>\n",
       "      <td>i'm so tired...</td>\n",
       "      <td>Lauv</td>\n",
       "      <td>7COXchtUOMd6uIT6HvmRaI</td>\n",
       "      <td>0.599</td>\n",
       "      <td>0.733</td>\n",
       "      <td>0.2420</td>\n",
       "      <td>0.534</td>\n",
       "      <td>0.2030</td>\n",
       "      <td>0.646487</td>\n",
       "      <td>3</td>\n",
       "    </tr>\n",
       "    <tr>\n",
       "      <th>124</th>\n",
       "      <td>Congratulations</td>\n",
       "      <td>Post Malone</td>\n",
       "      <td>14LOPYFegGakg50LJbVeai</td>\n",
       "      <td>0.630</td>\n",
       "      <td>0.804</td>\n",
       "      <td>0.2530</td>\n",
       "      <td>0.492</td>\n",
       "      <td>0.0363</td>\n",
       "      <td>0.877633</td>\n",
       "      <td>3</td>\n",
       "    </tr>\n",
       "    <tr>\n",
       "      <th>39</th>\n",
       "      <td>Channa Mereya</td>\n",
       "      <td>Pritam</td>\n",
       "      <td>0H2iJVgorRR0ZFgRqGUjUM</td>\n",
       "      <td>0.476</td>\n",
       "      <td>0.788</td>\n",
       "      <td>0.1060</td>\n",
       "      <td>0.746</td>\n",
       "      <td>0.0446</td>\n",
       "      <td>0.826339</td>\n",
       "      <td>3</td>\n",
       "    </tr>\n",
       "    <tr>\n",
       "      <th>143</th>\n",
       "      <td>Leave Me Alone</td>\n",
       "      <td>Flipp Dinero</td>\n",
       "      <td>5vDvBD3ReINP8dXUplj477</td>\n",
       "      <td>0.792</td>\n",
       "      <td>0.743</td>\n",
       "      <td>0.1830</td>\n",
       "      <td>0.742</td>\n",
       "      <td>0.0851</td>\n",
       "      <td>0.988342</td>\n",
       "      <td>3</td>\n",
       "    </tr>\n",
       "    <tr>\n",
       "      <th>128</th>\n",
       "      <td>Nice For What</td>\n",
       "      <td>Drake</td>\n",
       "      <td>3CA9pLiwRIGtUBiMjbZmRw</td>\n",
       "      <td>0.585</td>\n",
       "      <td>0.909</td>\n",
       "      <td>0.1190</td>\n",
       "      <td>0.758</td>\n",
       "      <td>0.0707</td>\n",
       "      <td>0.693439</td>\n",
       "      <td>3</td>\n",
       "    </tr>\n",
       "    <tr>\n",
       "      <th>33</th>\n",
       "      <td>Bom Diggy</td>\n",
       "      <td>Zack Knight</td>\n",
       "      <td>0O7jVsX1Sp98fV3802ccjY</td>\n",
       "      <td>0.793</td>\n",
       "      <td>0.777</td>\n",
       "      <td>0.1440</td>\n",
       "      <td>0.528</td>\n",
       "      <td>0.1970</td>\n",
       "      <td>0.760814</td>\n",
       "      <td>3</td>\n",
       "    </tr>\n",
       "    <tr>\n",
       "      <th>170</th>\n",
       "      <td>No Stylist (feat. Drake)</td>\n",
       "      <td>French Montana</td>\n",
       "      <td>04MLEeAMuV9IlHEsD8vF6A</td>\n",
       "      <td>0.765</td>\n",
       "      <td>0.704</td>\n",
       "      <td>0.2270</td>\n",
       "      <td>0.498</td>\n",
       "      <td>0.1270</td>\n",
       "      <td>0.844991</td>\n",
       "      <td>3</td>\n",
       "    </tr>\n",
       "    <tr>\n",
       "      <th>32</th>\n",
       "      <td>Suit Suit</td>\n",
       "      <td>Guru Randhawa</td>\n",
       "      <td>2mwBSO58y92EYmEFpDfmS7</td>\n",
       "      <td>0.767</td>\n",
       "      <td>0.869</td>\n",
       "      <td>0.2210</td>\n",
       "      <td>0.751</td>\n",
       "      <td>0.0908</td>\n",
       "      <td>0.942113</td>\n",
       "      <td>3</td>\n",
       "    </tr>\n",
       "    <tr>\n",
       "      <th>146</th>\n",
       "      <td>Wanted You (feat. Lil Uzi Vert)</td>\n",
       "      <td>NAV</td>\n",
       "      <td>1Faq8G2y56A8fRv7HsLq25</td>\n",
       "      <td>0.797</td>\n",
       "      <td>0.731</td>\n",
       "      <td>0.2240</td>\n",
       "      <td>0.623</td>\n",
       "      <td>0.0479</td>\n",
       "      <td>0.856729</td>\n",
       "      <td>3</td>\n",
       "    </tr>\n",
       "    <tr>\n",
       "      <th>134</th>\n",
       "      <td>Never Recover (Lil Baby &amp; Gunna, Drake)</td>\n",
       "      <td>Lil Baby</td>\n",
       "      <td>6wWaVoUOzLQJHd3bWAUpdZ</td>\n",
       "      <td>0.753</td>\n",
       "      <td>0.686</td>\n",
       "      <td>0.1930</td>\n",
       "      <td>0.886</td>\n",
       "      <td>0.2840</td>\n",
       "      <td>0.778582</td>\n",
       "      <td>3</td>\n",
       "    </tr>\n",
       "    <tr>\n",
       "      <th>140</th>\n",
       "      <td>Plain Jane</td>\n",
       "      <td>A$AP Ferg</td>\n",
       "      <td>6fTULJ8dMdGiXPOVYJ0yEb</td>\n",
       "      <td>0.841</td>\n",
       "      <td>0.854</td>\n",
       "      <td>0.0964</td>\n",
       "      <td>0.436</td>\n",
       "      <td>0.2090</td>\n",
       "      <td>0.851182</td>\n",
       "      <td>3</td>\n",
       "    </tr>\n",
       "    <tr>\n",
       "      <th>64</th>\n",
       "      <td>Polaroid</td>\n",
       "      <td>Jonas Blue</td>\n",
       "      <td>6XqvFyJGdUD5IWee02ARKU</td>\n",
       "      <td>0.652</td>\n",
       "      <td>0.898</td>\n",
       "      <td>0.0730</td>\n",
       "      <td>0.472</td>\n",
       "      <td>0.0361</td>\n",
       "      <td>0.853674</td>\n",
       "      <td>3</td>\n",
       "    </tr>\n",
       "    <tr>\n",
       "      <th>161</th>\n",
       "      <td>Goin Baby</td>\n",
       "      <td>DaBaby</td>\n",
       "      <td>3WyRgi8CzQnhzO0xw79tTS</td>\n",
       "      <td>0.755</td>\n",
       "      <td>0.772</td>\n",
       "      <td>0.1570</td>\n",
       "      <td>0.678</td>\n",
       "      <td>0.4000</td>\n",
       "      <td>0.764914</td>\n",
       "      <td>3</td>\n",
       "    </tr>\n",
       "    <tr>\n",
       "      <th>36</th>\n",
       "      <td>High Rated Gabru</td>\n",
       "      <td>Guru Randhawa</td>\n",
       "      <td>4dJWik0ax9bRFXl0HqbFjT</td>\n",
       "      <td>0.685</td>\n",
       "      <td>0.841</td>\n",
       "      <td>0.2600</td>\n",
       "      <td>0.590</td>\n",
       "      <td>0.0942</td>\n",
       "      <td>0.978212</td>\n",
       "      <td>3</td>\n",
       "    </tr>\n",
       "    <tr>\n",
       "      <th>152</th>\n",
       "      <td>Suge</td>\n",
       "      <td>DaBaby</td>\n",
       "      <td>2gwkD6igEhQbDQegRCcdoB</td>\n",
       "      <td>0.876</td>\n",
       "      <td>0.662</td>\n",
       "      <td>0.1270</td>\n",
       "      <td>0.844</td>\n",
       "      <td>0.4260</td>\n",
       "      <td>0.692796</td>\n",
       "      <td>3</td>\n",
       "    </tr>\n",
       "    <tr>\n",
       "      <th>35</th>\n",
       "      <td>Mere Rashke Qamar</td>\n",
       "      <td>Nusrat Fateh Ali Khan</td>\n",
       "      <td>4sNiMTu47WkUgW87qeUlWF</td>\n",
       "      <td>0.718</td>\n",
       "      <td>0.830</td>\n",
       "      <td>0.1240</td>\n",
       "      <td>0.771</td>\n",
       "      <td>0.0505</td>\n",
       "      <td>0.772713</td>\n",
       "      <td>3</td>\n",
       "    </tr>\n",
       "    <tr>\n",
       "      <th>137</th>\n",
       "      <td>Stir Fry</td>\n",
       "      <td>Migos</td>\n",
       "      <td>2UVbBKQOdFAekPTRsnkzcf</td>\n",
       "      <td>0.817</td>\n",
       "      <td>0.816</td>\n",
       "      <td>0.1590</td>\n",
       "      <td>0.508</td>\n",
       "      <td>0.2690</td>\n",
       "      <td>0.779627</td>\n",
       "      <td>3</td>\n",
       "    </tr>\n",
       "    <tr>\n",
       "      <th>87</th>\n",
       "      <td>All Over Again</td>\n",
       "      <td>Big Time Rush</td>\n",
       "      <td>156zXlUUdBchPZuSciV6zm</td>\n",
       "      <td>0.653</td>\n",
       "      <td>0.855</td>\n",
       "      <td>0.0818</td>\n",
       "      <td>0.531</td>\n",
       "      <td>0.0382</td>\n",
       "      <td>0.752050</td>\n",
       "      <td>3</td>\n",
       "    </tr>\n",
       "  </tbody>\n",
       "</table>\n",
       "</div>"
      ],
      "text/plain": [
       "                                        name                 artist  \\\n",
       "27                          The Breakup Song                 Pritam   \n",
       "163                              Carpet Burn                 DaBaby   \n",
       "78                           i'm so tired...                   Lauv   \n",
       "124                          Congratulations            Post Malone   \n",
       "39                             Channa Mereya                 Pritam   \n",
       "143                           Leave Me Alone           Flipp Dinero   \n",
       "128                            Nice For What                  Drake   \n",
       "33                                 Bom Diggy            Zack Knight   \n",
       "170                 No Stylist (feat. Drake)         French Montana   \n",
       "32                                 Suit Suit          Guru Randhawa   \n",
       "146          Wanted You (feat. Lil Uzi Vert)                    NAV   \n",
       "134  Never Recover (Lil Baby & Gunna, Drake)               Lil Baby   \n",
       "140                               Plain Jane              A$AP Ferg   \n",
       "64                                  Polaroid             Jonas Blue   \n",
       "161                                Goin Baby                 DaBaby   \n",
       "36                          High Rated Gabru          Guru Randhawa   \n",
       "152                                     Suge                 DaBaby   \n",
       "35                         Mere Rashke Qamar  Nusrat Fateh Ali Khan   \n",
       "137                                 Stir Fry                  Migos   \n",
       "87                            All Over Again          Big Time Rush   \n",
       "\n",
       "                         id  danceability  energy  liveness  valence  \\\n",
       "27   7BjQd0sfYsMGVrTpRdBNTT         0.818   0.930    0.6580    0.831   \n",
       "163  1N7CHs4eGjgr3gjyUgq75Y         0.824   0.859    0.2800    0.903   \n",
       "78   7COXchtUOMd6uIT6HvmRaI         0.599   0.733    0.2420    0.534   \n",
       "124  14LOPYFegGakg50LJbVeai         0.630   0.804    0.2530    0.492   \n",
       "39   0H2iJVgorRR0ZFgRqGUjUM         0.476   0.788    0.1060    0.746   \n",
       "143  5vDvBD3ReINP8dXUplj477         0.792   0.743    0.1830    0.742   \n",
       "128  3CA9pLiwRIGtUBiMjbZmRw         0.585   0.909    0.1190    0.758   \n",
       "33   0O7jVsX1Sp98fV3802ccjY         0.793   0.777    0.1440    0.528   \n",
       "170  04MLEeAMuV9IlHEsD8vF6A         0.765   0.704    0.2270    0.498   \n",
       "32   2mwBSO58y92EYmEFpDfmS7         0.767   0.869    0.2210    0.751   \n",
       "146  1Faq8G2y56A8fRv7HsLq25         0.797   0.731    0.2240    0.623   \n",
       "134  6wWaVoUOzLQJHd3bWAUpdZ         0.753   0.686    0.1930    0.886   \n",
       "140  6fTULJ8dMdGiXPOVYJ0yEb         0.841   0.854    0.0964    0.436   \n",
       "64   6XqvFyJGdUD5IWee02ARKU         0.652   0.898    0.0730    0.472   \n",
       "161  3WyRgi8CzQnhzO0xw79tTS         0.755   0.772    0.1570    0.678   \n",
       "36   4dJWik0ax9bRFXl0HqbFjT         0.685   0.841    0.2600    0.590   \n",
       "152  2gwkD6igEhQbDQegRCcdoB         0.876   0.662    0.1270    0.844   \n",
       "35   4sNiMTu47WkUgW87qeUlWF         0.718   0.830    0.1240    0.771   \n",
       "137  2UVbBKQOdFAekPTRsnkzcf         0.817   0.816    0.1590    0.508   \n",
       "87   156zXlUUdBchPZuSciV6zm         0.653   0.855    0.0818    0.531   \n",
       "\n",
       "     speechiness  loudness  label  \n",
       "27        0.2470  0.974192      3  \n",
       "163       0.3020  0.758241      3  \n",
       "78        0.2030  0.646487      3  \n",
       "124       0.0363  0.877633      3  \n",
       "39        0.0446  0.826339      3  \n",
       "143       0.0851  0.988342      3  \n",
       "128       0.0707  0.693439      3  \n",
       "33        0.1970  0.760814      3  \n",
       "170       0.1270  0.844991      3  \n",
       "32        0.0908  0.942113      3  \n",
       "146       0.0479  0.856729      3  \n",
       "134       0.2840  0.778582      3  \n",
       "140       0.2090  0.851182      3  \n",
       "64        0.0361  0.853674      3  \n",
       "161       0.4000  0.764914      3  \n",
       "36        0.0942  0.978212      3  \n",
       "152       0.4260  0.692796      3  \n",
       "35        0.0505  0.772713      3  \n",
       "137       0.2690  0.779627      3  \n",
       "87        0.0382  0.752050      3  "
      ]
     },
     "execution_count": 21,
     "metadata": {},
     "output_type": "execute_result"
    }
   ],
   "source": [
    "df[df['label'] == 3].tail(20)\n",
    "#Energetic"
   ]
  },
  {
   "cell_type": "code",
   "execution_count": 23,
   "id": "cczJYCdwfmvv",
   "metadata": {
    "id": "cczJYCdwfmvv"
   },
   "outputs": [],
   "source": [
    "from sklearn.model_selection import train_test_split\n",
    "X = features\n",
    "y = kmeans_YPred\n",
    "\n",
    "X_train, X_test, y_train, y_test = train_test_split(X, y, test_size=0.3)"
   ]
  },
  {
   "cell_type": "code",
   "execution_count": 24,
   "id": "2c867e37",
   "metadata": {},
   "outputs": [
    {
     "data": {
      "text/plain": [
       "RandomForestClassifier()"
      ]
     },
     "execution_count": 24,
     "metadata": {},
     "output_type": "execute_result"
    }
   ],
   "source": [
    "from sklearn.ensemble import RandomForestClassifier\n",
    "forest = RandomForestClassifier(n_estimators=100,criterion='gini')\n",
    "forest.fit(X_train,y_train)"
   ]
  },
  {
   "cell_type": "code",
   "execution_count": 25,
   "id": "865f56c9",
   "metadata": {},
   "outputs": [
    {
     "data": {
      "text/plain": [
       "array([3, 3, 2, 2, 3, 1, 2, 1, 3, 0, 2, 0, 0, 0, 0, 3, 0, 2, 2, 3, 1, 3,\n",
       "       0, 3, 0, 3, 1, 2, 2, 1, 3, 1, 3, 0, 1, 2, 3, 2, 3, 1, 0, 3, 0, 0,\n",
       "       0, 1, 3, 1, 3, 1, 0, 0])"
      ]
     },
     "execution_count": 25,
     "metadata": {},
     "output_type": "execute_result"
    }
   ],
   "source": [
    "y_pred = forest.predict(X_test)\n",
    "y_pred"
   ]
  },
  {
   "cell_type": "code",
   "execution_count": 26,
   "id": "f0b026cc",
   "metadata": {},
   "outputs": [
    {
     "data": {
      "text/plain": [
       "[('danceability', 0.2246702304226562),\n",
       " ('energy', 0.21778113086792428),\n",
       " ('liveness', 0.03691992880796098),\n",
       " ('valence', 0.1840248195648206),\n",
       " ('speechiness', 0.10263371375248315),\n",
       " ('loudness', 0.23397017658415487)]"
      ]
     },
     "execution_count": 26,
     "metadata": {},
     "output_type": "execute_result"
    }
   ],
   "source": [
    "features1 = features.columns\n",
    "list(zip(features[features1], forest.feature_importances_))"
   ]
  },
  {
   "cell_type": "code",
   "execution_count": 27,
   "id": "2c026e51",
   "metadata": {},
   "outputs": [],
   "source": [
    "#Average song features per cluster\n",
    "label0_mean=df[df['label']==0].mean()\n",
    "label1_mean=df[df['label']==1].mean()\n",
    "label2_mean=df[df['label']==2].mean()\n",
    "label3_mean=df[df['label']==3].mean()"
   ]
  },
  {
   "cell_type": "code",
   "execution_count": 32,
   "id": "8ef496a0",
   "metadata": {},
   "outputs": [
    {
     "data": {
      "application/vnd.plotly.v1+json": {
       "config": {
        "plotlyServerURL": "https://plot.ly"
       },
       "data": [
        {
         "name": "Rap",
         "type": "bar",
         "x": [
          "danceability",
          "energy",
          "liveness",
          "valence",
          "speechiness",
          "loudness"
         ],
         "y": [
          0.8345348837209302,
          0.5365813953488372,
          0.154246511627907,
          0.35043953488372087,
          0.21307209302325583,
          0.615261931739568,
          0
         ]
        },
        {
         "name": "Romantic",
         "type": "bar",
         "x": [
          "danceability",
          "energy",
          "liveness",
          "valence",
          "speechiness",
          "loudness"
         ],
         "y": [
          0.5442558139534885,
          0.6127906976744185,
          0.14587209302325585,
          0.33516279069767446,
          0.06276046511627908,
          0.7379186813104629,
          1
         ]
        },
        {
         "name": "Chill pop(kinda sad)",
         "type": "bar",
         "x": [
          "danceability",
          "energy",
          "liveness",
          "valence",
          "speechiness",
          "loudness"
         ],
         "y": [
          0.5403191489361702,
          0.35656382978723405,
          0.1332340425531915,
          0.2951595744680851,
          0.0466127659574468,
          0.4619183490538605,
          2
         ]
        },
        {
         "name": "Energetic",
         "type": "bar",
         "x": [
          "danceability",
          "energy",
          "liveness",
          "valence",
          "speechiness",
          "loudness"
         ],
         "y": [
          0.7303684210526317,
          0.7786842105263156,
          0.18938947368421055,
          0.664,
          0.14670789473684212,
          0.8083673970260916,
          3
         ]
        }
       ],
       "layout": {
        "barmode": "group",
        "template": {
         "data": {
          "bar": [
           {
            "error_x": {
             "color": "#2a3f5f"
            },
            "error_y": {
             "color": "#2a3f5f"
            },
            "marker": {
             "line": {
              "color": "#E5ECF6",
              "width": 0.5
             },
             "pattern": {
              "fillmode": "overlay",
              "size": 10,
              "solidity": 0.2
             }
            },
            "type": "bar"
           }
          ],
          "barpolar": [
           {
            "marker": {
             "line": {
              "color": "#E5ECF6",
              "width": 0.5
             },
             "pattern": {
              "fillmode": "overlay",
              "size": 10,
              "solidity": 0.2
             }
            },
            "type": "barpolar"
           }
          ],
          "carpet": [
           {
            "aaxis": {
             "endlinecolor": "#2a3f5f",
             "gridcolor": "white",
             "linecolor": "white",
             "minorgridcolor": "white",
             "startlinecolor": "#2a3f5f"
            },
            "baxis": {
             "endlinecolor": "#2a3f5f",
             "gridcolor": "white",
             "linecolor": "white",
             "minorgridcolor": "white",
             "startlinecolor": "#2a3f5f"
            },
            "type": "carpet"
           }
          ],
          "choropleth": [
           {
            "colorbar": {
             "outlinewidth": 0,
             "ticks": ""
            },
            "type": "choropleth"
           }
          ],
          "contour": [
           {
            "colorbar": {
             "outlinewidth": 0,
             "ticks": ""
            },
            "colorscale": [
             [
              0,
              "#0d0887"
             ],
             [
              0.1111111111111111,
              "#46039f"
             ],
             [
              0.2222222222222222,
              "#7201a8"
             ],
             [
              0.3333333333333333,
              "#9c179e"
             ],
             [
              0.4444444444444444,
              "#bd3786"
             ],
             [
              0.5555555555555556,
              "#d8576b"
             ],
             [
              0.6666666666666666,
              "#ed7953"
             ],
             [
              0.7777777777777778,
              "#fb9f3a"
             ],
             [
              0.8888888888888888,
              "#fdca26"
             ],
             [
              1,
              "#f0f921"
             ]
            ],
            "type": "contour"
           }
          ],
          "contourcarpet": [
           {
            "colorbar": {
             "outlinewidth": 0,
             "ticks": ""
            },
            "type": "contourcarpet"
           }
          ],
          "heatmap": [
           {
            "colorbar": {
             "outlinewidth": 0,
             "ticks": ""
            },
            "colorscale": [
             [
              0,
              "#0d0887"
             ],
             [
              0.1111111111111111,
              "#46039f"
             ],
             [
              0.2222222222222222,
              "#7201a8"
             ],
             [
              0.3333333333333333,
              "#9c179e"
             ],
             [
              0.4444444444444444,
              "#bd3786"
             ],
             [
              0.5555555555555556,
              "#d8576b"
             ],
             [
              0.6666666666666666,
              "#ed7953"
             ],
             [
              0.7777777777777778,
              "#fb9f3a"
             ],
             [
              0.8888888888888888,
              "#fdca26"
             ],
             [
              1,
              "#f0f921"
             ]
            ],
            "type": "heatmap"
           }
          ],
          "heatmapgl": [
           {
            "colorbar": {
             "outlinewidth": 0,
             "ticks": ""
            },
            "colorscale": [
             [
              0,
              "#0d0887"
             ],
             [
              0.1111111111111111,
              "#46039f"
             ],
             [
              0.2222222222222222,
              "#7201a8"
             ],
             [
              0.3333333333333333,
              "#9c179e"
             ],
             [
              0.4444444444444444,
              "#bd3786"
             ],
             [
              0.5555555555555556,
              "#d8576b"
             ],
             [
              0.6666666666666666,
              "#ed7953"
             ],
             [
              0.7777777777777778,
              "#fb9f3a"
             ],
             [
              0.8888888888888888,
              "#fdca26"
             ],
             [
              1,
              "#f0f921"
             ]
            ],
            "type": "heatmapgl"
           }
          ],
          "histogram": [
           {
            "marker": {
             "pattern": {
              "fillmode": "overlay",
              "size": 10,
              "solidity": 0.2
             }
            },
            "type": "histogram"
           }
          ],
          "histogram2d": [
           {
            "colorbar": {
             "outlinewidth": 0,
             "ticks": ""
            },
            "colorscale": [
             [
              0,
              "#0d0887"
             ],
             [
              0.1111111111111111,
              "#46039f"
             ],
             [
              0.2222222222222222,
              "#7201a8"
             ],
             [
              0.3333333333333333,
              "#9c179e"
             ],
             [
              0.4444444444444444,
              "#bd3786"
             ],
             [
              0.5555555555555556,
              "#d8576b"
             ],
             [
              0.6666666666666666,
              "#ed7953"
             ],
             [
              0.7777777777777778,
              "#fb9f3a"
             ],
             [
              0.8888888888888888,
              "#fdca26"
             ],
             [
              1,
              "#f0f921"
             ]
            ],
            "type": "histogram2d"
           }
          ],
          "histogram2dcontour": [
           {
            "colorbar": {
             "outlinewidth": 0,
             "ticks": ""
            },
            "colorscale": [
             [
              0,
              "#0d0887"
             ],
             [
              0.1111111111111111,
              "#46039f"
             ],
             [
              0.2222222222222222,
              "#7201a8"
             ],
             [
              0.3333333333333333,
              "#9c179e"
             ],
             [
              0.4444444444444444,
              "#bd3786"
             ],
             [
              0.5555555555555556,
              "#d8576b"
             ],
             [
              0.6666666666666666,
              "#ed7953"
             ],
             [
              0.7777777777777778,
              "#fb9f3a"
             ],
             [
              0.8888888888888888,
              "#fdca26"
             ],
             [
              1,
              "#f0f921"
             ]
            ],
            "type": "histogram2dcontour"
           }
          ],
          "mesh3d": [
           {
            "colorbar": {
             "outlinewidth": 0,
             "ticks": ""
            },
            "type": "mesh3d"
           }
          ],
          "parcoords": [
           {
            "line": {
             "colorbar": {
              "outlinewidth": 0,
              "ticks": ""
             }
            },
            "type": "parcoords"
           }
          ],
          "pie": [
           {
            "automargin": true,
            "type": "pie"
           }
          ],
          "scatter": [
           {
            "marker": {
             "colorbar": {
              "outlinewidth": 0,
              "ticks": ""
             }
            },
            "type": "scatter"
           }
          ],
          "scatter3d": [
           {
            "line": {
             "colorbar": {
              "outlinewidth": 0,
              "ticks": ""
             }
            },
            "marker": {
             "colorbar": {
              "outlinewidth": 0,
              "ticks": ""
             }
            },
            "type": "scatter3d"
           }
          ],
          "scattercarpet": [
           {
            "marker": {
             "colorbar": {
              "outlinewidth": 0,
              "ticks": ""
             }
            },
            "type": "scattercarpet"
           }
          ],
          "scattergeo": [
           {
            "marker": {
             "colorbar": {
              "outlinewidth": 0,
              "ticks": ""
             }
            },
            "type": "scattergeo"
           }
          ],
          "scattergl": [
           {
            "marker": {
             "colorbar": {
              "outlinewidth": 0,
              "ticks": ""
             }
            },
            "type": "scattergl"
           }
          ],
          "scattermapbox": [
           {
            "marker": {
             "colorbar": {
              "outlinewidth": 0,
              "ticks": ""
             }
            },
            "type": "scattermapbox"
           }
          ],
          "scatterpolar": [
           {
            "marker": {
             "colorbar": {
              "outlinewidth": 0,
              "ticks": ""
             }
            },
            "type": "scatterpolar"
           }
          ],
          "scatterpolargl": [
           {
            "marker": {
             "colorbar": {
              "outlinewidth": 0,
              "ticks": ""
             }
            },
            "type": "scatterpolargl"
           }
          ],
          "scatterternary": [
           {
            "marker": {
             "colorbar": {
              "outlinewidth": 0,
              "ticks": ""
             }
            },
            "type": "scatterternary"
           }
          ],
          "surface": [
           {
            "colorbar": {
             "outlinewidth": 0,
             "ticks": ""
            },
            "colorscale": [
             [
              0,
              "#0d0887"
             ],
             [
              0.1111111111111111,
              "#46039f"
             ],
             [
              0.2222222222222222,
              "#7201a8"
             ],
             [
              0.3333333333333333,
              "#9c179e"
             ],
             [
              0.4444444444444444,
              "#bd3786"
             ],
             [
              0.5555555555555556,
              "#d8576b"
             ],
             [
              0.6666666666666666,
              "#ed7953"
             ],
             [
              0.7777777777777778,
              "#fb9f3a"
             ],
             [
              0.8888888888888888,
              "#fdca26"
             ],
             [
              1,
              "#f0f921"
             ]
            ],
            "type": "surface"
           }
          ],
          "table": [
           {
            "cells": {
             "fill": {
              "color": "#EBF0F8"
             },
             "line": {
              "color": "white"
             }
            },
            "header": {
             "fill": {
              "color": "#C8D4E3"
             },
             "line": {
              "color": "white"
             }
            },
            "type": "table"
           }
          ]
         },
         "layout": {
          "annotationdefaults": {
           "arrowcolor": "#2a3f5f",
           "arrowhead": 0,
           "arrowwidth": 1
          },
          "autotypenumbers": "strict",
          "coloraxis": {
           "colorbar": {
            "outlinewidth": 0,
            "ticks": ""
           }
          },
          "colorscale": {
           "diverging": [
            [
             0,
             "#8e0152"
            ],
            [
             0.1,
             "#c51b7d"
            ],
            [
             0.2,
             "#de77ae"
            ],
            [
             0.3,
             "#f1b6da"
            ],
            [
             0.4,
             "#fde0ef"
            ],
            [
             0.5,
             "#f7f7f7"
            ],
            [
             0.6,
             "#e6f5d0"
            ],
            [
             0.7,
             "#b8e186"
            ],
            [
             0.8,
             "#7fbc41"
            ],
            [
             0.9,
             "#4d9221"
            ],
            [
             1,
             "#276419"
            ]
           ],
           "sequential": [
            [
             0,
             "#0d0887"
            ],
            [
             0.1111111111111111,
             "#46039f"
            ],
            [
             0.2222222222222222,
             "#7201a8"
            ],
            [
             0.3333333333333333,
             "#9c179e"
            ],
            [
             0.4444444444444444,
             "#bd3786"
            ],
            [
             0.5555555555555556,
             "#d8576b"
            ],
            [
             0.6666666666666666,
             "#ed7953"
            ],
            [
             0.7777777777777778,
             "#fb9f3a"
            ],
            [
             0.8888888888888888,
             "#fdca26"
            ],
            [
             1,
             "#f0f921"
            ]
           ],
           "sequentialminus": [
            [
             0,
             "#0d0887"
            ],
            [
             0.1111111111111111,
             "#46039f"
            ],
            [
             0.2222222222222222,
             "#7201a8"
            ],
            [
             0.3333333333333333,
             "#9c179e"
            ],
            [
             0.4444444444444444,
             "#bd3786"
            ],
            [
             0.5555555555555556,
             "#d8576b"
            ],
            [
             0.6666666666666666,
             "#ed7953"
            ],
            [
             0.7777777777777778,
             "#fb9f3a"
            ],
            [
             0.8888888888888888,
             "#fdca26"
            ],
            [
             1,
             "#f0f921"
            ]
           ]
          },
          "colorway": [
           "#636efa",
           "#EF553B",
           "#00cc96",
           "#ab63fa",
           "#FFA15A",
           "#19d3f3",
           "#FF6692",
           "#B6E880",
           "#FF97FF",
           "#FECB52"
          ],
          "font": {
           "color": "#2a3f5f"
          },
          "geo": {
           "bgcolor": "white",
           "lakecolor": "white",
           "landcolor": "#E5ECF6",
           "showlakes": true,
           "showland": true,
           "subunitcolor": "white"
          },
          "hoverlabel": {
           "align": "left"
          },
          "hovermode": "closest",
          "mapbox": {
           "style": "light"
          },
          "paper_bgcolor": "white",
          "plot_bgcolor": "#E5ECF6",
          "polar": {
           "angularaxis": {
            "gridcolor": "white",
            "linecolor": "white",
            "ticks": ""
           },
           "bgcolor": "#E5ECF6",
           "radialaxis": {
            "gridcolor": "white",
            "linecolor": "white",
            "ticks": ""
           }
          },
          "scene": {
           "xaxis": {
            "backgroundcolor": "#E5ECF6",
            "gridcolor": "white",
            "gridwidth": 2,
            "linecolor": "white",
            "showbackground": true,
            "ticks": "",
            "zerolinecolor": "white"
           },
           "yaxis": {
            "backgroundcolor": "#E5ECF6",
            "gridcolor": "white",
            "gridwidth": 2,
            "linecolor": "white",
            "showbackground": true,
            "ticks": "",
            "zerolinecolor": "white"
           },
           "zaxis": {
            "backgroundcolor": "#E5ECF6",
            "gridcolor": "white",
            "gridwidth": 2,
            "linecolor": "white",
            "showbackground": true,
            "ticks": "",
            "zerolinecolor": "white"
           }
          },
          "shapedefaults": {
           "line": {
            "color": "#2a3f5f"
           }
          },
          "ternary": {
           "aaxis": {
            "gridcolor": "white",
            "linecolor": "white",
            "ticks": ""
           },
           "baxis": {
            "gridcolor": "white",
            "linecolor": "white",
            "ticks": ""
           },
           "bgcolor": "#E5ECF6",
           "caxis": {
            "gridcolor": "white",
            "linecolor": "white",
            "ticks": ""
           }
          },
          "title": {
           "x": 0.05
          },
          "xaxis": {
           "automargin": true,
           "gridcolor": "white",
           "linecolor": "white",
           "ticks": "",
           "title": {
            "standoff": 15
           },
           "zerolinecolor": "white",
           "zerolinewidth": 2
          },
          "yaxis": {
           "automargin": true,
           "gridcolor": "white",
           "linecolor": "white",
           "ticks": "",
           "title": {
            "standoff": 15
           },
           "zerolinecolor": "white",
           "zerolinewidth": 2
          }
         }
        }
       }
      },
      "text/html": [
       "<div>                            <div id=\"edbd0021-bd8c-4c43-b7c9-cc86400f1822\" class=\"plotly-graph-div\" style=\"height:525px; width:100%;\"></div>            <script type=\"text/javascript\">                require([\"plotly\"], function(Plotly) {                    window.PLOTLYENV=window.PLOTLYENV || {};                                    if (document.getElementById(\"edbd0021-bd8c-4c43-b7c9-cc86400f1822\")) {                    Plotly.newPlot(                        \"edbd0021-bd8c-4c43-b7c9-cc86400f1822\",                        [{\"name\":\"Rap\",\"type\":\"bar\",\"x\":[\"danceability\",\"energy\",\"liveness\",\"valence\",\"speechiness\",\"loudness\"],\"y\":[0.8345348837209302,0.5365813953488372,0.154246511627907,0.35043953488372087,0.21307209302325583,0.615261931739568,0.0]},{\"name\":\"Romantic\",\"type\":\"bar\",\"x\":[\"danceability\",\"energy\",\"liveness\",\"valence\",\"speechiness\",\"loudness\"],\"y\":[0.5442558139534885,0.6127906976744185,0.14587209302325585,0.33516279069767446,0.06276046511627908,0.7379186813104629,1.0]},{\"name\":\"Chill pop(kinda sad)\",\"type\":\"bar\",\"x\":[\"danceability\",\"energy\",\"liveness\",\"valence\",\"speechiness\",\"loudness\"],\"y\":[0.5403191489361702,0.35656382978723405,0.1332340425531915,0.2951595744680851,0.0466127659574468,0.4619183490538605,2.0]},{\"name\":\"Energetic\",\"type\":\"bar\",\"x\":[\"danceability\",\"energy\",\"liveness\",\"valence\",\"speechiness\",\"loudness\"],\"y\":[0.7303684210526317,0.7786842105263156,0.18938947368421055,0.664,0.14670789473684212,0.8083673970260916,3.0]}],                        {\"barmode\":\"group\",\"template\":{\"data\":{\"bar\":[{\"error_x\":{\"color\":\"#2a3f5f\"},\"error_y\":{\"color\":\"#2a3f5f\"},\"marker\":{\"line\":{\"color\":\"#E5ECF6\",\"width\":0.5},\"pattern\":{\"fillmode\":\"overlay\",\"size\":10,\"solidity\":0.2}},\"type\":\"bar\"}],\"barpolar\":[{\"marker\":{\"line\":{\"color\":\"#E5ECF6\",\"width\":0.5},\"pattern\":{\"fillmode\":\"overlay\",\"size\":10,\"solidity\":0.2}},\"type\":\"barpolar\"}],\"carpet\":[{\"aaxis\":{\"endlinecolor\":\"#2a3f5f\",\"gridcolor\":\"white\",\"linecolor\":\"white\",\"minorgridcolor\":\"white\",\"startlinecolor\":\"#2a3f5f\"},\"baxis\":{\"endlinecolor\":\"#2a3f5f\",\"gridcolor\":\"white\",\"linecolor\":\"white\",\"minorgridcolor\":\"white\",\"startlinecolor\":\"#2a3f5f\"},\"type\":\"carpet\"}],\"choropleth\":[{\"colorbar\":{\"outlinewidth\":0,\"ticks\":\"\"},\"type\":\"choropleth\"}],\"contour\":[{\"colorbar\":{\"outlinewidth\":0,\"ticks\":\"\"},\"colorscale\":[[0.0,\"#0d0887\"],[0.1111111111111111,\"#46039f\"],[0.2222222222222222,\"#7201a8\"],[0.3333333333333333,\"#9c179e\"],[0.4444444444444444,\"#bd3786\"],[0.5555555555555556,\"#d8576b\"],[0.6666666666666666,\"#ed7953\"],[0.7777777777777778,\"#fb9f3a\"],[0.8888888888888888,\"#fdca26\"],[1.0,\"#f0f921\"]],\"type\":\"contour\"}],\"contourcarpet\":[{\"colorbar\":{\"outlinewidth\":0,\"ticks\":\"\"},\"type\":\"contourcarpet\"}],\"heatmap\":[{\"colorbar\":{\"outlinewidth\":0,\"ticks\":\"\"},\"colorscale\":[[0.0,\"#0d0887\"],[0.1111111111111111,\"#46039f\"],[0.2222222222222222,\"#7201a8\"],[0.3333333333333333,\"#9c179e\"],[0.4444444444444444,\"#bd3786\"],[0.5555555555555556,\"#d8576b\"],[0.6666666666666666,\"#ed7953\"],[0.7777777777777778,\"#fb9f3a\"],[0.8888888888888888,\"#fdca26\"],[1.0,\"#f0f921\"]],\"type\":\"heatmap\"}],\"heatmapgl\":[{\"colorbar\":{\"outlinewidth\":0,\"ticks\":\"\"},\"colorscale\":[[0.0,\"#0d0887\"],[0.1111111111111111,\"#46039f\"],[0.2222222222222222,\"#7201a8\"],[0.3333333333333333,\"#9c179e\"],[0.4444444444444444,\"#bd3786\"],[0.5555555555555556,\"#d8576b\"],[0.6666666666666666,\"#ed7953\"],[0.7777777777777778,\"#fb9f3a\"],[0.8888888888888888,\"#fdca26\"],[1.0,\"#f0f921\"]],\"type\":\"heatmapgl\"}],\"histogram\":[{\"marker\":{\"pattern\":{\"fillmode\":\"overlay\",\"size\":10,\"solidity\":0.2}},\"type\":\"histogram\"}],\"histogram2d\":[{\"colorbar\":{\"outlinewidth\":0,\"ticks\":\"\"},\"colorscale\":[[0.0,\"#0d0887\"],[0.1111111111111111,\"#46039f\"],[0.2222222222222222,\"#7201a8\"],[0.3333333333333333,\"#9c179e\"],[0.4444444444444444,\"#bd3786\"],[0.5555555555555556,\"#d8576b\"],[0.6666666666666666,\"#ed7953\"],[0.7777777777777778,\"#fb9f3a\"],[0.8888888888888888,\"#fdca26\"],[1.0,\"#f0f921\"]],\"type\":\"histogram2d\"}],\"histogram2dcontour\":[{\"colorbar\":{\"outlinewidth\":0,\"ticks\":\"\"},\"colorscale\":[[0.0,\"#0d0887\"],[0.1111111111111111,\"#46039f\"],[0.2222222222222222,\"#7201a8\"],[0.3333333333333333,\"#9c179e\"],[0.4444444444444444,\"#bd3786\"],[0.5555555555555556,\"#d8576b\"],[0.6666666666666666,\"#ed7953\"],[0.7777777777777778,\"#fb9f3a\"],[0.8888888888888888,\"#fdca26\"],[1.0,\"#f0f921\"]],\"type\":\"histogram2dcontour\"}],\"mesh3d\":[{\"colorbar\":{\"outlinewidth\":0,\"ticks\":\"\"},\"type\":\"mesh3d\"}],\"parcoords\":[{\"line\":{\"colorbar\":{\"outlinewidth\":0,\"ticks\":\"\"}},\"type\":\"parcoords\"}],\"pie\":[{\"automargin\":true,\"type\":\"pie\"}],\"scatter\":[{\"marker\":{\"colorbar\":{\"outlinewidth\":0,\"ticks\":\"\"}},\"type\":\"scatter\"}],\"scatter3d\":[{\"line\":{\"colorbar\":{\"outlinewidth\":0,\"ticks\":\"\"}},\"marker\":{\"colorbar\":{\"outlinewidth\":0,\"ticks\":\"\"}},\"type\":\"scatter3d\"}],\"scattercarpet\":[{\"marker\":{\"colorbar\":{\"outlinewidth\":0,\"ticks\":\"\"}},\"type\":\"scattercarpet\"}],\"scattergeo\":[{\"marker\":{\"colorbar\":{\"outlinewidth\":0,\"ticks\":\"\"}},\"type\":\"scattergeo\"}],\"scattergl\":[{\"marker\":{\"colorbar\":{\"outlinewidth\":0,\"ticks\":\"\"}},\"type\":\"scattergl\"}],\"scattermapbox\":[{\"marker\":{\"colorbar\":{\"outlinewidth\":0,\"ticks\":\"\"}},\"type\":\"scattermapbox\"}],\"scatterpolar\":[{\"marker\":{\"colorbar\":{\"outlinewidth\":0,\"ticks\":\"\"}},\"type\":\"scatterpolar\"}],\"scatterpolargl\":[{\"marker\":{\"colorbar\":{\"outlinewidth\":0,\"ticks\":\"\"}},\"type\":\"scatterpolargl\"}],\"scatterternary\":[{\"marker\":{\"colorbar\":{\"outlinewidth\":0,\"ticks\":\"\"}},\"type\":\"scatterternary\"}],\"surface\":[{\"colorbar\":{\"outlinewidth\":0,\"ticks\":\"\"},\"colorscale\":[[0.0,\"#0d0887\"],[0.1111111111111111,\"#46039f\"],[0.2222222222222222,\"#7201a8\"],[0.3333333333333333,\"#9c179e\"],[0.4444444444444444,\"#bd3786\"],[0.5555555555555556,\"#d8576b\"],[0.6666666666666666,\"#ed7953\"],[0.7777777777777778,\"#fb9f3a\"],[0.8888888888888888,\"#fdca26\"],[1.0,\"#f0f921\"]],\"type\":\"surface\"}],\"table\":[{\"cells\":{\"fill\":{\"color\":\"#EBF0F8\"},\"line\":{\"color\":\"white\"}},\"header\":{\"fill\":{\"color\":\"#C8D4E3\"},\"line\":{\"color\":\"white\"}},\"type\":\"table\"}]},\"layout\":{\"annotationdefaults\":{\"arrowcolor\":\"#2a3f5f\",\"arrowhead\":0,\"arrowwidth\":1},\"autotypenumbers\":\"strict\",\"coloraxis\":{\"colorbar\":{\"outlinewidth\":0,\"ticks\":\"\"}},\"colorscale\":{\"diverging\":[[0,\"#8e0152\"],[0.1,\"#c51b7d\"],[0.2,\"#de77ae\"],[0.3,\"#f1b6da\"],[0.4,\"#fde0ef\"],[0.5,\"#f7f7f7\"],[0.6,\"#e6f5d0\"],[0.7,\"#b8e186\"],[0.8,\"#7fbc41\"],[0.9,\"#4d9221\"],[1,\"#276419\"]],\"sequential\":[[0.0,\"#0d0887\"],[0.1111111111111111,\"#46039f\"],[0.2222222222222222,\"#7201a8\"],[0.3333333333333333,\"#9c179e\"],[0.4444444444444444,\"#bd3786\"],[0.5555555555555556,\"#d8576b\"],[0.6666666666666666,\"#ed7953\"],[0.7777777777777778,\"#fb9f3a\"],[0.8888888888888888,\"#fdca26\"],[1.0,\"#f0f921\"]],\"sequentialminus\":[[0.0,\"#0d0887\"],[0.1111111111111111,\"#46039f\"],[0.2222222222222222,\"#7201a8\"],[0.3333333333333333,\"#9c179e\"],[0.4444444444444444,\"#bd3786\"],[0.5555555555555556,\"#d8576b\"],[0.6666666666666666,\"#ed7953\"],[0.7777777777777778,\"#fb9f3a\"],[0.8888888888888888,\"#fdca26\"],[1.0,\"#f0f921\"]]},\"colorway\":[\"#636efa\",\"#EF553B\",\"#00cc96\",\"#ab63fa\",\"#FFA15A\",\"#19d3f3\",\"#FF6692\",\"#B6E880\",\"#FF97FF\",\"#FECB52\"],\"font\":{\"color\":\"#2a3f5f\"},\"geo\":{\"bgcolor\":\"white\",\"lakecolor\":\"white\",\"landcolor\":\"#E5ECF6\",\"showlakes\":true,\"showland\":true,\"subunitcolor\":\"white\"},\"hoverlabel\":{\"align\":\"left\"},\"hovermode\":\"closest\",\"mapbox\":{\"style\":\"light\"},\"paper_bgcolor\":\"white\",\"plot_bgcolor\":\"#E5ECF6\",\"polar\":{\"angularaxis\":{\"gridcolor\":\"white\",\"linecolor\":\"white\",\"ticks\":\"\"},\"bgcolor\":\"#E5ECF6\",\"radialaxis\":{\"gridcolor\":\"white\",\"linecolor\":\"white\",\"ticks\":\"\"}},\"scene\":{\"xaxis\":{\"backgroundcolor\":\"#E5ECF6\",\"gridcolor\":\"white\",\"gridwidth\":2,\"linecolor\":\"white\",\"showbackground\":true,\"ticks\":\"\",\"zerolinecolor\":\"white\"},\"yaxis\":{\"backgroundcolor\":\"#E5ECF6\",\"gridcolor\":\"white\",\"gridwidth\":2,\"linecolor\":\"white\",\"showbackground\":true,\"ticks\":\"\",\"zerolinecolor\":\"white\"},\"zaxis\":{\"backgroundcolor\":\"#E5ECF6\",\"gridcolor\":\"white\",\"gridwidth\":2,\"linecolor\":\"white\",\"showbackground\":true,\"ticks\":\"\",\"zerolinecolor\":\"white\"}},\"shapedefaults\":{\"line\":{\"color\":\"#2a3f5f\"}},\"ternary\":{\"aaxis\":{\"gridcolor\":\"white\",\"linecolor\":\"white\",\"ticks\":\"\"},\"baxis\":{\"gridcolor\":\"white\",\"linecolor\":\"white\",\"ticks\":\"\"},\"bgcolor\":\"#E5ECF6\",\"caxis\":{\"gridcolor\":\"white\",\"linecolor\":\"white\",\"ticks\":\"\"}},\"title\":{\"x\":0.05},\"xaxis\":{\"automargin\":true,\"gridcolor\":\"white\",\"linecolor\":\"white\",\"ticks\":\"\",\"title\":{\"standoff\":15},\"zerolinecolor\":\"white\",\"zerolinewidth\":2},\"yaxis\":{\"automargin\":true,\"gridcolor\":\"white\",\"linecolor\":\"white\",\"ticks\":\"\",\"title\":{\"standoff\":15},\"zerolinecolor\":\"white\",\"zerolinewidth\":2}}}},                        {\"responsive\": true}                    ).then(function(){\n",
       "                            \n",
       "var gd = document.getElementById('edbd0021-bd8c-4c43-b7c9-cc86400f1822');\n",
       "var x = new MutationObserver(function (mutations, observer) {{\n",
       "        var display = window.getComputedStyle(gd).display;\n",
       "        if (!display || display === 'none') {{\n",
       "            console.log([gd, 'removed!']);\n",
       "            Plotly.purge(gd);\n",
       "            observer.disconnect();\n",
       "        }}\n",
       "}});\n",
       "\n",
       "// Listen for the removal of the full notebook cells\n",
       "var notebookContainer = gd.closest('#notebook-container');\n",
       "if (notebookContainer) {{\n",
       "    x.observe(notebookContainer, {childList: true});\n",
       "}}\n",
       "\n",
       "// Listen for the clearing of the current output cell\n",
       "var outputEl = gd.closest('.output');\n",
       "if (outputEl) {{\n",
       "    x.observe(outputEl, {childList: true});\n",
       "}}\n",
       "\n",
       "                        })                };                });            </script>        </div>"
      ]
     },
     "metadata": {},
     "output_type": "display_data"
    }
   ],
   "source": [
    "import plotly.graph_objects as go\n",
    "features_cols=['danceability', 'energy', 'liveness', 'valence', 'speechiness',\n",
    "       'loudness']\n",
    "\n",
    "fig = go.Figure(data=[\n",
    "    go.Bar(name='Rap', x=features_cols, y=label0_mean),\n",
    "    go.Bar(name='Romantic', x=features_cols, y=label1_mean),\n",
    "    go.Bar(name='Chill pop(kinda sad)', x=features_cols, y=label2_mean),\n",
    "    go.Bar(name='Energetic', x=features_cols, y=label3_mean)\n",
    "])\n",
    "# Change the bar mode\n",
    "fig.update_layout(barmode='group')\n",
    "fig.show()"
   ]
  },
  {
   "cell_type": "code",
   "execution_count": 36,
   "id": "83d835dd",
   "metadata": {},
   "outputs": [],
   "source": [
    "from sklearn.metrics import classification_report, confusion_matrix"
   ]
  },
  {
   "cell_type": "code",
   "execution_count": 37,
   "id": "f1f88b1d",
   "metadata": {},
   "outputs": [],
   "source": [
    "def plot_confusion_matrix(y_true, y_pred, classes,\n",
    "                          normalize=False,\n",
    "                          title=None,\n",
    "                          cmap=plt.cm.Blues):\n",
    "    \"\"\"\n",
    "    This function prints and plots the confusion matrix.\n",
    "    Normalization can be applied by setting `normalize=True`.\n",
    "    \"\"\"\n",
    "    if not title:\n",
    "        if normalize:\n",
    "            title = 'Normalized confusion matrix'\n",
    "        else:\n",
    "            title = 'Confusion matrix'\n",
    "\n",
    "    # Compute confusion matrix\n",
    "    cm = confusion_matrix(y_true, y_pred)\n",
    "    # Only use the labels that appear in the data\n",
    "    if normalize:\n",
    "        cm = cm.astype('float') / cm.sum(axis=1)[:, np.newaxis]\n",
    "        print(\"Normalized confusion matrix\")\n",
    "    else:\n",
    "        print('Confusion matrix, without normalization')\n",
    "\n",
    "    print(cm)\n",
    "\n",
    "    fig, ax = plt.subplots()\n",
    "    im = ax.imshow(cm, interpolation='nearest', cmap=cmap)\n",
    "    ax.figure.colorbar(im, ax=ax)\n",
    "    # We want to show all ticks...\n",
    "    ax.set(xticks=np.arange(cm.shape[1]),\n",
    "           yticks=np.arange(cm.shape[0]),\n",
    "           # ... and label them with the respective list entries\n",
    "           xticklabels=classes, yticklabels=classes,\n",
    "           title=title,\n",
    "           ylabel='True label',\n",
    "           xlabel='Predicted label')\n",
    "\n",
    "    # Rotate the tick labels and set their alignment.\n",
    "    plt.setp(ax.get_xticklabels(), rotation=45, ha=\"right\",\n",
    "             rotation_mode=\"anchor\")\n",
    "\n",
    "    # Loop over data dimensions and create text annotations.\n",
    "    fmt = '.2f' if normalize else 'd'\n",
    "    thresh = cm.max() / 2.\n",
    "    for i in range(cm.shape[0]):\n",
    "        for j in range(cm.shape[1]):\n",
    "            ax.text(j, i, format(cm[i, j], fmt),\n",
    "                    ha=\"center\", va=\"center\",\n",
    "                    color=\"white\" if cm[i, j] > thresh else \"black\")\n",
    "    fig.tight_layout()\n",
    "    return ax"
   ]
  },
  {
   "cell_type": "code",
   "execution_count": 40,
   "id": "d09064cc",
   "metadata": {},
   "outputs": [
    {
     "name": "stdout",
     "output_type": "stream",
     "text": [
      "Confusion matrix, without normalization\n",
      "[[14  0  0  1]\n",
      " [ 0 11  0  2]\n",
      " [ 0  0 10  0]\n",
      " [ 1  0  0 13]]\n"
     ]
    },
    {
     "data": {
      "text/plain": [
       "<AxesSubplot:title={'center':'Confusion matrix for Random Forest'}, xlabel='Predicted label', ylabel='True label'>"
      ]
     },
     "execution_count": 40,
     "metadata": {},
     "output_type": "execute_result"
    },
    {
     "data": {
      "image/png": "[encoded data removed]",
      "text/plain": [
       "<Figure size 432x288 with 2 Axes>"
      ]
     },
     "metadata": {
      "needs_background": "light"
     },
     "output_type": "display_data"
    }
   ],
   "source": [
    "# Confusion matrix\n",
    "definitions = ['Rap','Romantic','Chill pop(kinda sad)','Energetic']\n",
    "# reversefactor = dict(zip(range(4),definitions))\n",
    "# actual = np.vectorize(reversefactor.get)(y_test)\n",
    "# pred = np.vectorize(reversefactor.get)(y_pred)\n",
    "# print(pd.crosstab(actual, pred, rownames=['Actual Mood'], colnames=['Predicted Mood']))\n",
    "\n",
    "plot_confusion_matrix(y_test, y_pred, classes=definitions,\n",
    "                      title='Confusion matrix for Random Forest')"
   ]
  },
  {
   "cell_type": "code",
   "execution_count": 45,
   "id": "250910dd",
   "metadata": {},
   "outputs": [
    {
     "name": "stdout",
     "output_type": "stream",
     "text": [
      "                      precision    recall  f1-score   support\n",
      "\n",
      "                 Rap       0.93      0.93      0.93        15\n",
      "            Romantic       1.00      0.85      0.92        13\n",
      "Chill pop(kinda sad)       1.00      1.00      1.00        10\n",
      "           Energetic       0.81      0.93      0.87        14\n",
      "\n",
      "            accuracy                           0.92        52\n",
      "           macro avg       0.94      0.93      0.93        52\n",
      "        weighted avg       0.93      0.92      0.92        52\n",
      "forest\n"
     ]
    }
   ],
   "source": [
    "print(classification_report(y_test,y_pred,target_names=definitions)+'forest')"
   ]
  },
  {
   "cell_type": "code",
   "execution_count": 41,
   "id": "37c04a12",
   "metadata": {},
   "outputs": [
    {
     "data": {
      "text/plain": [
       "KNeighborsClassifier(n_neighbors=3)"
      ]
     },
     "execution_count": 41,
     "metadata": {},
     "output_type": "execute_result"
    }
   ],
   "source": [
    "from sklearn.neighbors import KNeighborsClassifier\n",
    "\n",
    "knn = KNeighborsClassifier(n_neighbors=3)\n",
    "# Train the model using the training sets\n",
    "knn.fit(X_train,y_train)"
   ]
  },
  {
   "cell_type": "code",
   "execution_count": 42,
   "id": "23b53b4e",
   "metadata": {},
   "outputs": [],
   "source": [
    "knn_pred =knn.predict(X_test)"
   ]
  },
  {
   "cell_type": "code",
   "execution_count": 43,
   "id": "84b44090",
   "metadata": {},
   "outputs": [
    {
     "name": "stdout",
     "output_type": "stream",
     "text": [
      "Confusion matrix, without normalization\n",
      "[[13  0  2  0]\n",
      " [ 2 11  0  0]\n",
      " [ 0  0 10  0]\n",
      " [ 0  1  0 13]]\n"
     ]
    },
    {
     "data": {
      "text/plain": [
       "<AxesSubplot:title={'center':'Confusion matrix for KNN'}, xlabel='Predicted label', ylabel='True label'>"
      ]
     },
     "execution_count": 43,
     "metadata": {},
     "output_type": "execute_result"
    },
    {
     "data": {
      "image/png": "[encoded data removed]",
      "text/plain": [
       "<Figure size 432x288 with 2 Axes>"
      ]
     },
     "metadata": {
      "needs_background": "light"
     },
     "output_type": "display_data"
    }
   ],
   "source": [
    "plot_confusion_matrix(y_test, knn_pred, classes=definitions,\n",
    "                      title='Confusion matrix for KNN')"
   ]
  },
  {
   "cell_type": "code",
   "execution_count": 44,
   "id": "d44363ca",
   "metadata": {},
   "outputs": [
    {
     "name": "stdout",
     "output_type": "stream",
     "text": [
      "                      precision    recall  f1-score   support\n",
      "\n",
      "                 Rap       0.87      0.87      0.87        15\n",
      "            Romantic       0.92      0.85      0.88        13\n",
      "Chill pop(kinda sad)       0.83      1.00      0.91        10\n",
      "           Energetic       1.00      0.93      0.96        14\n",
      "\n",
      "            accuracy                           0.90        52\n",
      "           macro avg       0.90      0.91      0.90        52\n",
      "        weighted avg       0.91      0.90      0.90        52\n",
      "KNN\n"
     ]
    }
   ],
   "source": [
    "print(classification_report(y_test,knn_pred,target_names=definitions)+'KNN')"
   ]
  },
  {
   "cell_type": "code",
   "execution_count": null,
   "id": "6b4cd30b",
   "metadata": {},
   "outputs": [],
   "source": []
  }
 ],
 "metadata": {
  "colab": {
   "collapsed_sections": [],
   "name": "spotify_test using spotipy.ipynb",
   "provenance": []
  },
  "kernelspec": {
   "display_name": "Python 3",
   "language": "python",
   "name": "python3"
  },
  "language_info": {
   "codemirror_mode": {
    "name": "ipython",
    "version": 3
   },
   "file_extension": ".py",
   "mimetype": "text/x-python",
   "name": "python",
   "nbconvert_exporter": "python",
   "pygments_lexer": "ipython3",
   "version": "3.8.8"
  }
 },
 "nbformat": 4,
 "nbformat_minor": 5
}
